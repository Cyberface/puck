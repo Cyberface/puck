{
 "cells": [
  {
   "cell_type": "code",
   "execution_count": 5,
   "metadata": {},
   "outputs": [],
   "source": [
    "# gen wf"
   ]
  },
  {
   "cell_type": "code",
   "execution_count": 6,
   "metadata": {},
   "outputs": [],
   "source": [
    "%matplotlib inline\n",
    "import matplotlib\n",
    "import matplotlib.pyplot as plt\n",
    "matplotlib.rcParams.update({'font.size': 16}) "
   ]
  },
  {
   "cell_type": "code",
   "execution_count": 7,
   "metadata": {},
   "outputs": [],
   "source": [
    "from scipy.interpolate import InterpolatedUnivariateSpline as IUS"
   ]
  },
  {
   "cell_type": "code",
   "execution_count": 8,
   "metadata": {},
   "outputs": [],
   "source": [
    "import numpy as np"
   ]
  },
  {
   "cell_type": "code",
   "execution_count": 13,
   "metadata": {},
   "outputs": [],
   "source": [
    "import os"
   ]
  },
  {
   "cell_type": "code",
   "execution_count": 15,
   "metadata": {},
   "outputs": [],
   "source": [
    "import h5py"
   ]
  },
  {
   "cell_type": "code",
   "execution_count": 9,
   "metadata": {},
   "outputs": [
    {
     "name": "stdout",
     "output_type": "stream",
     "text": [
      "(\u001b[0;36mpositive\u001b[0m)>> Applying custom matplotlib settings.\n"
     ]
    }
   ],
   "source": [
    "# Setup enviroment to autoreload packages\n",
    "%load_ext autoreload\n",
    "%autoreload 2\n",
    "# Turn on inline plotting with matplotlib, and import needed thigs from nrutils\n",
    "%matplotlib inline\n",
    "# Let's only import the catalog search function, and the loading function\n",
    "from nrutils import scsearch,gwylm"
   ]
  },
  {
   "cell_type": "code",
   "execution_count": 10,
   "metadata": {},
   "outputs": [],
   "source": [
    "from nrutils.core.nrsc import *"
   ]
  },
  {
   "cell_type": "markdown",
   "metadata": {},
   "source": [
    "## Find a simulation(s) using scsearch"
   ]
  },
  {
   "cell_type": "code",
   "execution_count": 11,
   "metadata": {},
   "outputs": [
    {
     "name": "stdout",
     "output_type": "stream",
     "text": [
      "Help on function scsearch in module nrutils.core.nrsc:\n",
      "\n",
      "scsearch(catalog=None, q=None, nonspinning=None, spinaligned=None, spinantialigned=None, precessing=None, nonprecessing=None, equalspin=None, unequalspin=None, antialigned=None, setname=None, notsetname=None, institute=None, keyword=None, notkeyword=None, unique=None, plot=None, exists=None, validate_remnant=None, apply_remnant_fit=None, verbose=None)\n",
      "    # Function for searching through catalog files.\n",
      "\n"
     ]
    }
   ],
   "source": [
    "help(scsearch)"
   ]
  },
  {
   "cell_type": "code",
   "execution_count": null,
   "metadata": {},
   "outputs": [],
   "source": []
  },
  {
   "cell_type": "code",
   "execution_count": null,
   "metadata": {},
   "outputs": [],
   "source": []
  },
  {
   "cell_type": "code",
   "execution_count": 12,
   "metadata": {
    "ExecuteTime": {
     "end_time": "2017-11-04T07:33:27.979428Z",
     "start_time": "2017-11-04T07:33:23.829505"
    }
   },
   "outputs": [
    {
     "name": "stdout",
     "output_type": "stream",
     "text": [
      "(\u001b[0;36mscsearch\u001b[0m)>> Found \u001b[4minstitute\u001b[0m (=bam) keyword.\n",
      "(\u001b[0;36mscsearch\u001b[0m)>> Found \u001b[4mprecessing\u001b[0m (=True) keyword.\n",
      "(\u001b[0;36mscsearch\u001b[0m)>> Found \u001b[4mverbose\u001b[0m (=True) keyword.\n",
      "## Found \u001b[1m40\u001b[0m\u001b[0;35m possibly degenerate\u001b[0m simulations:\n",
      "[0001][\u001b[92mhogshead\u001b[0m] \u001b[0;36mNR_data\u001b[0m: 1chi0.80-p-q8.00\t(\u001b[0;36mq8a08t90dP0_T_96_384\u001b[0m)\n",
      "[0002][\u001b[92mhogshead\u001b[0m] \u001b[0;36mNR_data\u001b[0m: 1chi0.80-p-q8.00\t(\u001b[0;36mq8a08t60Ditm45dr075_96_360\u001b[0m)\n",
      "[0003][\u001b[92mhogshead\u001b[0m] \u001b[0;36mNR_data\u001b[0m: 1chi0.80-p-q8.00\t(\u001b[0;36mq8a08t30dPm9.35_r0.5_T_96_360\u001b[0m)\n",
      "[0004][\u001b[92mhogshead\u001b[0m] \u001b[0;36mNR_data\u001b[0m: 1chi0.80-p-q8.00\t(\u001b[0;36mq8a08t150dP2_T_96_360\u001b[0m)\n",
      "[0005][\u001b[92mhogshead\u001b[0m] \u001b[0;36mNR_data\u001b[0m: 1chi0.40-p-q8.00\t(\u001b[0;36mq8a04t90dP0_T_96_360\u001b[0m)\n",
      "[0006][\u001b[92mhogshead\u001b[0m] \u001b[0;36mNR_data\u001b[0m: 1chi0.40-p-q8.00\t(\u001b[0;36mq8a04t90_T_96_360\u001b[0m)\n",
      "[0007][\u001b[92mhogshead\u001b[0m] \u001b[0;36mNR_data\u001b[0m: 1chi0.40-p-q8.00\t(\u001b[0;36mq8a04t60_T_96_360\u001b[0m)\n",
      "[0008][\u001b[92mhogshead\u001b[0m] \u001b[0;36mNR_data\u001b[0m: 1chi0.40-p-q8.00\t(\u001b[0;36mq8a04t60D_dPm1\u001b[0m)\n",
      "[0009][\u001b[92mhogshead\u001b[0m] \u001b[0;36mNR_data\u001b[0m: 1chi0.40-p-q8.00\t(\u001b[0;36mq8a04t30dPm3_T_96_360\u001b[0m)\n",
      "[0010][\u001b[92mhogshead\u001b[0m] \u001b[0;36mNR_data\u001b[0m: 1chi0.40-p-q8.00\t(\u001b[0;36mq8a04t30_T_96_360\u001b[0m)\n",
      "[0011][\u001b[92mhogshead\u001b[0m] \u001b[0;36mNR_data\u001b[0m: 1chi0.40-p-q8.00\t(\u001b[0;36mq8a04t150dP9_T_96_360\u001b[0m)\n",
      "[0012][\u001b[92mhogshead\u001b[0m] \u001b[0;36mNR_data\u001b[0m: 1chi0.40-p-q8.00\t(\u001b[0;36mq8a04t120dPp1_T_96_360\u001b[0m)\n",
      "[0013][\u001b[92mhogshead\u001b[0m] \u001b[0;36mNR_data\u001b[0m: 1chi0.80-p-q4.00\t(\u001b[0;36mq4a08t90dPm1D_T_96_384\u001b[0m)\n",
      "[0014][\u001b[92mhogshead\u001b[0m] \u001b[0;36mNR_data\u001b[0m: 1chi0.80-p-q4.00\t(\u001b[0;36mq4a08t60dPm2_T_96_360\u001b[0m)\n",
      "[0015][\u001b[92mhogshead\u001b[0m] \u001b[0;36mNR_data\u001b[0m: 1chi0.80-p-q4.00\t(\u001b[0;36mq4a08t30dPm4_T_96_360\u001b[0m)\n",
      "[0016][\u001b[92mhogshead\u001b[0m] \u001b[0;36mNR_data\u001b[0m: 1chi0.80-p-q4.00\t(\u001b[0;36mq4a08t150_T_96_360\u001b[0m)\n",
      "[0017][\u001b[92mhogshead\u001b[0m] \u001b[0;36mNR_data\u001b[0m: 1chi0.80-p-q4.00\t(\u001b[0;36mq4a08t120dP1_T_96_360\u001b[0m)\n",
      "[0018][\u001b[92mhogshead\u001b[0m] \u001b[0;36mNR_data\u001b[0m: 1chi0.40-p-q4.00\t(\u001b[0;36mq4a04t90_T_96_360\u001b[0m)\n",
      "[0019][\u001b[92mhogshead\u001b[0m] \u001b[0;36mNR_data\u001b[0m: 1chi0.40-p-q4.00\t(\u001b[0;36mq4a04t60dPm1D_T_96_360\u001b[0m)\n",
      "[0020][\u001b[92mhogshead\u001b[0m] \u001b[0;36mNR_data\u001b[0m: 1chi0.40-p-q4.00\t(\u001b[0;36mq4a04t60dPm1.5D_T_96_360\u001b[0m)\n",
      "[0021][\u001b[92mhogshead\u001b[0m] \u001b[0;36mNR_data\u001b[0m: 1chi0.40-p-q4.00\t(\u001b[0;36mq4a04t30dPm1.5D_T_96_360\u001b[0m)\n",
      "[0022][\u001b[92mhogshead\u001b[0m] \u001b[0;36mNR_data\u001b[0m: 1chi0.40-p-q4.00\t(\u001b[0;36mq4a04t150_T_96_360\u001b[0m)\n",
      "[0023][\u001b[92mhogshead\u001b[0m] \u001b[0;36mNR_data\u001b[0m: 1chi0.40-p-q4.00\t(\u001b[0;36mq4a04t150_T_96_360.0.1.0\u001b[0m)\n",
      "[0024][\u001b[92mhogshead\u001b[0m] \u001b[0;36mNR_data\u001b[0m: 1chi0.40-p-q4.00\t(\u001b[0;36mq4a04t120dP0D_T_96_360\u001b[0m)\n",
      "[0025][\u001b[92mhogshead\u001b[0m] \u001b[0;36mNR_data\u001b[0m: 1chi0.40-p-q2.00\t(\u001b[0;36mq2a04t90dPm1_T_96_408\u001b[0m)\n",
      "[0026][\u001b[92mhogshead\u001b[0m] \u001b[0;36mNR_data\u001b[0m: 1chi0.40-p-q2.00\t(\u001b[0;36mq2a04t60dPm1_T_96_408\u001b[0m)\n",
      "[0027][\u001b[92mhogshead\u001b[0m] \u001b[0;36mNR_data\u001b[0m: 1chi0.40-p-q2.00\t(\u001b[0;36mq2a04t30dPm2_T_96_408\u001b[0m)\n",
      "[0028][\u001b[92mhogshead\u001b[0m] \u001b[0;36mNR_data\u001b[0m: 1chi0.40-p-q2.00\t(\u001b[0;36mq2a04t150_T_96_408\u001b[0m)\n",
      "[0029][\u001b[92mhogshead\u001b[0m] \u001b[0;36mNR_data\u001b[0m: 1chi0.40-p-q2.00\t(\u001b[0;36mq2a04t120_T_96_408\u001b[0m)\n",
      "[0030][\u001b[92mhogshead\u001b[0m] \u001b[0;36mNR_data\u001b[0m: 2chi0.40-p-q1.00\t(\u001b[0;36mq1a04t60_dPm1_T_96_552\u001b[0m)\n",
      "[0031][\u001b[92mhogshead\u001b[0m] \u001b[0;36mNR_data\u001b[0m: 1chi0.80-p-q1.00\t(\u001b[0;36mq1a08t90dPm1_T_96_408\u001b[0m)\n",
      "[0032][\u001b[92mhogshead\u001b[0m] \u001b[0;36mNR_data\u001b[0m: 1chi0.80-p-q1.00\t(\u001b[0;36mq1a08t60dPm1.5_T_96_408\u001b[0m)\n",
      "[0033][\u001b[92mhogshead\u001b[0m] \u001b[0;36mNR_data\u001b[0m: 1chi0.80-p-q1.00\t(\u001b[0;36mq1a08t30dPm25_T_96_408\u001b[0m)\n",
      "[0034][\u001b[92mhogshead\u001b[0m] \u001b[0;36mNR_data\u001b[0m: 1chi0.80-p-q1.00\t(\u001b[0;36mq1a08t150dP0_T_96_408\u001b[0m)\n",
      "[0035][\u001b[92mhogshead\u001b[0m] \u001b[0;36mNR_data\u001b[0m: 1chi0.80-p-q1.00\t(\u001b[0;36mq1a08t120dP0_T_96_408\u001b[0m)\n",
      "[0036][\u001b[92mhogshead\u001b[0m] \u001b[0;36mNR_data\u001b[0m: 2chi0.40-p-q1.00\t(\u001b[0;36mq1a04t90_dP0_T_96_552\u001b[0m)\n",
      "[0037][\u001b[92mhogshead\u001b[0m] \u001b[0;36mNR_data\u001b[0m: 2chi0.40-p-q1.00\t(\u001b[0;36mq1a04t60_dPm1_T_96_552\u001b[0m)\n",
      "[0038][\u001b[92mhogshead\u001b[0m] \u001b[0;36mNR_data\u001b[0m: 2chi0.40-p-q1.00\t(\u001b[0;36mq1a04t30_dPm2_T_96_552\u001b[0m)\n",
      "[0039][\u001b[92mhogshead\u001b[0m] \u001b[0;36mNR_data\u001b[0m: 2chi0.40-p-q1.00\t(\u001b[0;36mq1a04t150_dP0_T_96_552\u001b[0m)\n",
      "[0040][\u001b[92mhogshead\u001b[0m] \u001b[0;36mNR_data\u001b[0m: 2chi0.40-p-q1.00\t(\u001b[0;36mq1a04t120_dP0_T_96_552\u001b[0m)\n",
      "\n"
     ]
    }
   ],
   "source": [
    "# Search for simulations\n",
    "# A = scsearch(q=[3.9,8.1], institute='bam', verbose=True)\n",
    "A = scsearch(institute='bam', verbose=True, precessing=True)"
   ]
  },
  {
   "cell_type": "code",
   "execution_count": 39,
   "metadata": {},
   "outputs": [],
   "source": [
    "def get_peak_time(t, amp):\n",
    "    peak_index = np.argmax(amp)\n",
    "    peak_time = t[peak_index]\n",
    "    return peak_time"
   ]
  },
  {
   "cell_type": "code",
   "execution_count": 40,
   "metadata": {},
   "outputs": [],
   "source": [
    "def resample(x, y, newx):\n",
    "    return IUS(x, y)(newx)"
   ]
  },
  {
   "cell_type": "code",
   "execution_count": 41,
   "metadata": {},
   "outputs": [],
   "source": [
    "def compute_sym_waveform(h2m2, h22):\n",
    "    hplus = (h22 + np.conj(h2m2))/2\n",
    "    hminus = (h22 - np.conj(h2m2))/2\n",
    "    return hplus, hminus"
   ]
  },
  {
   "cell_type": "code",
   "execution_count": 42,
   "metadata": {},
   "outputs": [],
   "source": [
    "def compute_amp(complex_data):\n",
    "    return np.abs(complex_data)\n",
    "\n",
    "def compute_phase(complex_data):\n",
    "    return np.unwrap(np.angle(complex_data))\n",
    "\n",
    "def compute_dphase(complex_data, time):\n",
    "    phase = compute_phase(complex_data)\n",
    "    iphase = IUS(time, phase)\n",
    "    return iphase.derivative()(time)"
   ]
  },
  {
   "cell_type": "code",
   "execution_count": 53,
   "metadata": {},
   "outputs": [],
   "source": [
    "def resample_complex(times, complex_data, new_times):\n",
    "    amp = compute_amp(complex_data)\n",
    "    phase = compute_phase(complex_data)\n",
    "    \n",
    "    new_amp = resample(times, amp, new_times)\n",
    "    new_phase = resample(times, phase, new_times)\n",
    "    \n",
    "    new_complex_data = new_amp * np.exp(1.j * new_phase)\n",
    "    return new_complex_data"
   ]
  },
  {
   "cell_type": "code",
   "execution_count": 43,
   "metadata": {},
   "outputs": [],
   "source": [
    "def get_co_prec_sym_waveform(ylm, kind='psi4', t1=None, t2=None, npts=5000):\n",
    "    \n",
    "    print(\"ylm simname {}\".format(ylm.simname))\n",
    "    \n",
    "    print(\"kind: {}\".format(kind))\n",
    "    \n",
    "    print(\"calc initial j frame\")\n",
    "    ylm_coprec = ylm.__calc_initial_j_frame__()\n",
    "    \n",
    "    print(\"calc coprecessing frame\")\n",
    "    ylm_coprec = ylm_coprec.__calc_coprecessing_frame__()\n",
    "    \n",
    "    t0_coprec = get_peak_time(ylm_coprec.radiation_axis_info.gwylmo[2,2][kind].t, ylm_coprec.radiation_axis_info.gwylmo[2,2][kind].amp)\n",
    "    \n",
    "    t_coprec_shift = ylm_coprec.radiation_axis_info.gwylmo[2,2][kind].t - t0_coprec\n",
    "    \n",
    "    if t1 is None:\n",
    "        t1 = t_coprec_shift[0]\n",
    "    if t2 is None:\n",
    "        t2 = t_coprec_shift[-1]\n",
    "    \n",
    "    print(\"t1 = {}\".format(t1))\n",
    "    print(\"t2 = {}\".format(t2))\n",
    "    \n",
    "    \n",
    "    print(\"computing symmetrised waveform\")\n",
    "    print(\"**should check sign convention here I use +1.j\")\n",
    "    h2m2_tmp = ylm_coprec[2,-2][kind].wfarr[:,1] + 1.j * ylm_coprec[2,-2][kind].wfarr[:,2]\n",
    "    h22_tmp = ylm_coprec[2,2][kind].wfarr[:,1] + 1.j * ylm_coprec[2,2][kind].wfarr[:,2]\n",
    "    \n",
    "    h22_plus, h22_minus = compute_sym_waveform(h2m2_tmp, h22_tmp)\n",
    "    print(\"working with h22_plus\")\n",
    "    \n",
    "    amp = compute_amp(h22_plus)\n",
    "    phase = compute_phase(h22_plus)\n",
    "    dphase = compute_dphase(h22_plus, t_coprec_shift)\n",
    "    \n",
    "    newt = np.linspace(t1, t2, npts)\n",
    "\n",
    "    print(\"resampling\")\n",
    "    coprec_sym_data = {}\n",
    "    coprec_sym_data.update({\n",
    "        't':newt,\n",
    "        'amp':resample(t_coprec_shift, amp, newt),\n",
    "        'phi':resample(t_coprec_shift, phase, newt),\n",
    "        'dphi':resample(t_coprec_shift, dphase, newt),\n",
    "        'simname':ylm_coprec.simname\n",
    "    })\n",
    "    print(\"**should check sign convention here I use +1.j\")\n",
    "    coprec_sym_data.update({\"h22\":coprec_sym_data[\"amp\"]*np.exp(1.j*coprec_sym_data[\"phi\"])})\n",
    "    \n",
    "    print(\"done\")\n",
    "    return coprec_sym_data"
   ]
  },
  {
   "cell_type": "code",
   "execution_count": null,
   "metadata": {},
   "outputs": [],
   "source": []
  },
  {
   "cell_type": "code",
   "execution_count": 48,
   "metadata": {},
   "outputs": [],
   "source": [
    "def my_makedir(path):\n",
    "    if not os.path.isdir(path):\n",
    "        os.mkdir(path)\n",
    "        print(\"Successfully created the directory '{}' \".format(path))\n",
    "    else:\n",
    "        print(\"directory '{}' already exists\".format(path))"
   ]
  },
  {
   "cell_type": "code",
   "execution_count": null,
   "metadata": {},
   "outputs": [],
   "source": []
  },
  {
   "cell_type": "code",
   "execution_count": 170,
   "metadata": {},
   "outputs": [],
   "source": [
    "def save_data(screnty_ob, output_dir, lmax, gwylm_verbose, verbose, npts):\n",
    "    if verbose:\n",
    "        print(\"\\n\")\n",
    "        print(\">>>\")\n",
    "        print(\">>> working simname: {}\".format(obj.simname))\n",
    "        print(\">>>\")\n",
    "        print(\"\\n\")\n",
    "    output_filename = os.path.join(output_dir, \"{}.h5\".format(obj.simname))\n",
    "    \n",
    "    if verbose:\n",
    "        print(\"getting gwylm\")\n",
    "    ylm = gwylm( scentry_obj = obj, lmax=lmax, verbose=gwylm_verbose )\n",
    "    \n",
    "    coprec_sym_dict = {}\n",
    "    if verbose:\n",
    "        print(\"getting coprec and sym waveform [psi4]\")\n",
    "    coprec_sym_dict['psi4'] = get_co_prec_sym_waveform(ylm, kind='psi4')\n",
    "    if verbose:\n",
    "        print(\"getting coprec and sym waveform [strain]\")\n",
    "    coprec_sym_dict['strain'] = get_co_prec_sym_waveform(ylm, kind='strain')\n",
    "    \n",
    "    # the times from psi4 and strain or not the same so we should\n",
    "    # resample to common times\n",
    "    print(\"*****\")\n",
    "    print([coprec_sym_dict['psi4']['t'][0], coprec_sym_dict['strain']['t'][0]])\n",
    "    print([coprec_sym_dict['psi4']['t'][-1], coprec_sym_dict['strain']['t'][-1]])\n",
    "    print(\"*****\")\n",
    "    common_t1 = np.max([coprec_sym_dict['psi4']['t'][0], coprec_sym_dict['strain']['t'][0]])\n",
    "    common_t2 = np.min([coprec_sym_dict['psi4']['t'][-1], coprec_sym_dict['strain']['t'][-1]])\n",
    "    print(\"common_t1: {}\".format(common_t1))\n",
    "    print(\"common_t2: {}\".format(common_t2))\n",
    "\n",
    "    if verbose:\n",
    "        print(\"resampling psi4 and strain to a common time grid\")\n",
    "    new_times = np.linspace(common_t1, common_t2, npts)\n",
    "    psi4_data = resample_complex(coprec_sym_dict['psi4']['t'], coprec_sym_dict['psi4']['h22'], new_times)\n",
    "    strain_data = resample_complex(coprec_sym_dict['psi4']['t'], coprec_sym_dict['strain']['h22'], new_times)\n",
    "    \n",
    "    if verbose:\n",
    "        print(\"making file: {}\".format(output_filename))\n",
    "    with h5py.File(output_filename, \"w\") as f:\n",
    "        f.attrs['simname'] = obj.simname\n",
    "        f.attrs['X1'] = obj.X1\n",
    "        f.attrs['X2'] = obj.X2\n",
    "        f.attrs['eta'] = obj.eta\n",
    "        \n",
    "        f.create_dataset(\"times\", data=new_times)\n",
    "        f.create_dataset(\"psi4\", data=psi4_data)\n",
    "        f.create_dataset(\"strain\", data=strain_data)"
   ]
  },
  {
   "cell_type": "code",
   "execution_count": 171,
   "metadata": {},
   "outputs": [
    {
     "data": {
      "text/plain": [
       "[<nrutils.core.nrsc.scentry instance at 0x2b2a2be4ec68>,\n",
       " <nrutils.core.nrsc.scentry instance at 0x2b2a2c1a7710>]"
      ]
     },
     "execution_count": 171,
     "metadata": {},
     "output_type": "execute_result"
    }
   ],
   "source": [
    "A[:2]"
   ]
  },
  {
   "cell_type": "code",
   "execution_count": 172,
   "metadata": {},
   "outputs": [
    {
     "name": "stdout",
     "output_type": "stream",
     "text": [
      "directory data already exists\n",
      "\n",
      "\n",
      ">>>\n",
      ">>> working simname: q8a08t90dP0_T_96_384\n",
      ">>>\n",
      "\n",
      "\n",
      "getting gwylm\n",
      "\n",
      "# -~-~-~-~-~-~-~-~-~-~-~-~-~-~-~-~-~-~-~-~-~-~-~-~-~-~-~-~-~-~-~ #\n",
      "\u001b[1m(\u001b[0;36mload_dynamics\u001b[0m)>> Trying to load source dynamics ...\u001b[0m\n",
      "# -~-~-~-~-~-~-~-~-~-~-~-~-~-~-~-~-~-~-~-~-~-~-~-~-~-~-~-~-~-~-~ #\n",
      "\n",
      "(\u001b[0;36mload_dynamics\u001b[0m)>> Calculating dynamics times by adjusting input waveform_times by extraction radius\n",
      "(\u001b[0;36mload_dynamics\u001b[0m)>> Retrieving method from handler for loading source dyanmics as this is specific to BAM, GT-MAYA, SXS, etc ...\n",
      "(\u001b[0;36mload_dynamics\u001b[0m)>> Loading/Learning dynamics ...\n",
      "(\u001b[0;36mload_dynamics\u001b[0m)>> Done.\n",
      "getting coprec and sym waveform [psi4]\n",
      "ylm simname q8a08t90dP0_T_96_384\n",
      "kind: psi4\n",
      "calc initial j frame\n",
      "(\u001b[0;36m__rotate_frame_at_all_times__\u001b[0m)>> Attempting to rotate dynamics timeseries in this.dynamics\n",
      "(\u001b[0;36m__rotate_frame_at_all_times__\u001b[0m)>> Note that metadata at the scentry level (i.e. this.__scentry__) have not been rotated, but this.Sf, this.R1 and others have been rotated. This includes radiated and remnant quantities.\n",
      "calc coprecessing frame\n",
      "(\u001b[0;36mcalc_coprecessing_angles\u001b[0m)>> The domain values seem unevenly split between positive and negative values. Thus, we will interpret the input as corresponding to \u001b[92mTIME DOMAIN\u001b[0m data.\n",
      "(\u001b[0;36mcalc_coprecessing_angles\u001b[0m)>> The domain values seem evenly split between positive and negative values. Thus, we will interpret the input as corresponding to \u001b[92mFREQUENCY DOMAIN\u001b[0m data.\n",
      "(\u001b[0;36m__rotate_frame_at_all_times__\u001b[0m)>> Attempting to rotate dynamics timeseries in this.dynamics\n",
      "(\u001b[0;36m__rotate_frame_at_all_times__\u001b[0m)>> Note that metadata at the scentry level (i.e. this.__scentry__) have not been rotated, but this.Sf, this.R1 and others have been rotated. This includes radiated and remnant quantities.\n",
      "t1 = -2103.3\n",
      "t2 = 420.9\n",
      "computing symmetrised waveform\n",
      "**should check sign convention here I use +1.j\n",
      "working with h22_plus\n",
      "resampling\n",
      "**should check sign convention here I use +1.j\n",
      "done\n",
      "getting coprec and sym waveform [strain]\n",
      "ylm simname q8a08t90dP0_T_96_384\n",
      "kind: strain\n",
      "calc initial j frame\n",
      "(\u001b[0;36m__rotate_frame_at_all_times__\u001b[0m)>> Attempting to rotate dynamics timeseries in this.dynamics\n",
      "(\u001b[0;36m__rotate_frame_at_all_times__\u001b[0m)>> Note that metadata at the scentry level (i.e. this.__scentry__) have not been rotated, but this.Sf, this.R1 and others have been rotated. This includes radiated and remnant quantities.\n",
      "calc coprecessing frame\n",
      "(\u001b[0;36mcalc_coprecessing_angles\u001b[0m)>> The domain values seem unevenly split between positive and negative values. Thus, we will interpret the input as corresponding to \u001b[92mTIME DOMAIN\u001b[0m data.\n",
      "(\u001b[0;36mcalc_coprecessing_angles\u001b[0m)>> The domain values seem evenly split between positive and negative values. Thus, we will interpret the input as corresponding to \u001b[92mFREQUENCY DOMAIN\u001b[0m data.\n",
      "(\u001b[0;36m__rotate_frame_at_all_times__\u001b[0m)>> Attempting to rotate dynamics timeseries in this.dynamics\n",
      "(\u001b[0;36m__rotate_frame_at_all_times__\u001b[0m)>> Note that metadata at the scentry level (i.e. this.__scentry__) have not been rotated, but this.Sf, this.R1 and others have been rotated. This includes radiated and remnant quantities.\n",
      "t1 = -2067.45\n",
      "t2 = 456.75\n",
      "computing symmetrised waveform\n",
      "**should check sign convention here I use +1.j\n",
      "working with h22_plus\n",
      "resampling\n",
      "**should check sign convention here I use +1.j\n",
      "done\n",
      "*****\n",
      "[-2103.2999999999997, -2067.45]\n",
      "[420.9000000000001, 456.75]\n",
      "*****\n",
      "common_t1: -2067.45\n",
      "common_t2: 420.9\n",
      "resampling psi4 and strain to a common time grid\n",
      "making file: data/q8a08t90dP0_T_96_384.h5\n",
      "\n",
      "\n",
      ">>>\n",
      ">>> working simname: q8a08t60Ditm45dr075_96_360\n",
      ">>>\n",
      "\n",
      "\n",
      "getting gwylm\n",
      "\n",
      "# -~-~-~-~-~-~-~-~-~-~-~-~-~-~-~-~-~-~-~-~-~-~-~-~-~-~-~-~-~-~-~ #\n",
      "\u001b[1m(\u001b[0;36mload_dynamics\u001b[0m)>> Trying to load source dynamics ...\u001b[0m\n",
      "# -~-~-~-~-~-~-~-~-~-~-~-~-~-~-~-~-~-~-~-~-~-~-~-~-~-~-~-~-~-~-~ #\n",
      "\n",
      "(\u001b[0;36mload_dynamics\u001b[0m)>> Calculating dynamics times by adjusting input waveform_times by extraction radius\n",
      "(\u001b[0;36mload_dynamics\u001b[0m)>> Retrieving method from handler for loading source dyanmics as this is specific to BAM, GT-MAYA, SXS, etc ...\n",
      "(\u001b[0;36mload_dynamics\u001b[0m)>> Loading/Learning dynamics ...\n",
      "\u001b[1m(\u001b[0;33mstraighten_wfarr!\u001b[0m)\u001b[0m>> Non-finite values found in waveform array. Corresponding rows will be removed.\n",
      "\u001b[1m(\u001b[0;33mstraighten_wfarr!\u001b[0m)\u001b[0m>> \u001b[31mThe time series has been found to be non-monotonic. We will sort the data to enforce monotinicity.\u001b[0m\n",
      "\u001b[1m(\u001b[0;33mstraighten_wfarr!\u001b[0m)\u001b[0m>> \u001b[31mThe waveform time series is now monotonic.\u001b[0m\n",
      "\u001b[1m(\u001b[0;33mstraighten_wfarr!\u001b[0m)\u001b[0m>> Repeated time values were found in the array. Offending rows will be removed.\n",
      "\u001b[1m(\u001b[0;33mstraighten_wfarr!\u001b[0m)\u001b[0m>> \u001b[31mThe time series has been found to be non-monotonic. We will sort the data to enforce monotinicity.\u001b[0m\n",
      "\u001b[1m(\u001b[0;33mstraighten_wfarr!\u001b[0m)\u001b[0m>> \u001b[31mThe waveform time series is now monotonic.\u001b[0m\n",
      "\u001b[1m(\u001b[0;33mstraighten_wfarr!\u001b[0m)\u001b[0m>> Repeated time values were found in the array. Offending rows will be removed.\n",
      "\u001b[1m(\u001b[0;33mstraighten_wfarr!\u001b[0m)\u001b[0m>> \u001b[31mThe time series has been found to be non-monotonic. We will sort the data to enforce monotinicity.\u001b[0m\n",
      "\u001b[1m(\u001b[0;33mstraighten_wfarr!\u001b[0m)\u001b[0m>> \u001b[31mThe waveform time series is now monotonic.\u001b[0m\n",
      "\u001b[1m(\u001b[0;33mstraighten_wfarr!\u001b[0m)\u001b[0m>> Repeated time values were found in the array. Offending rows will be removed.\n",
      "\u001b[1m(\u001b[0;33mstraighten_wfarr!\u001b[0m)\u001b[0m>> \u001b[31mThe time series has been found to be non-monotonic. We will sort the data to enforce monotinicity.\u001b[0m\n",
      "\u001b[1m(\u001b[0;33mstraighten_wfarr!\u001b[0m)\u001b[0m>> \u001b[31mThe waveform time series is now monotonic.\u001b[0m\n",
      "\u001b[1m(\u001b[0;33mstraighten_wfarr!\u001b[0m)\u001b[0m>> Repeated time values were found in the array. Offending rows will be removed.\n",
      "(\u001b[0;36mload_dynamics\u001b[0m)>> Done.\n",
      "getting coprec and sym waveform [psi4]\n",
      "ylm simname q8a08t60Ditm45dr075_96_360\n",
      "kind: psi4\n",
      "calc initial j frame\n",
      "(\u001b[0;36m__rotate_frame_at_all_times__\u001b[0m)>> Attempting to rotate dynamics timeseries in this.dynamics\n",
      "(\u001b[0;36m__rotate_frame_at_all_times__\u001b[0m)>> Note that metadata at the scentry level (i.e. this.__scentry__) have not been rotated, but this.Sf, this.R1 and others have been rotated. This includes radiated and remnant quantities.\n",
      "calc coprecessing frame\n",
      "(\u001b[0;36mcalc_coprecessing_angles\u001b[0m)>> The domain values seem unevenly split between positive and negative values. Thus, we will interpret the input as corresponding to \u001b[92mTIME DOMAIN\u001b[0m data.\n",
      "(\u001b[0;36mcalc_coprecessing_angles\u001b[0m)>> The domain values seem evenly split between positive and negative values. Thus, we will interpret the input as corresponding to \u001b[92mFREQUENCY DOMAIN\u001b[0m data.\n",
      "(\u001b[0;36m__rotate_frame_at_all_times__\u001b[0m)>> Attempting to rotate dynamics timeseries in this.dynamics\n",
      "(\u001b[0;36m__rotate_frame_at_all_times__\u001b[0m)>> Note that metadata at the scentry level (i.e. this.__scentry__) have not been rotated, but this.Sf, this.R1 and others have been rotated. This includes radiated and remnant quantities.\n",
      "t1 = -2112.0\n",
      "t2 = 338.7\n",
      "computing symmetrised waveform\n",
      "**should check sign convention here I use +1.j\n",
      "working with h22_plus\n",
      "resampling\n",
      "**should check sign convention here I use +1.j\n",
      "done\n",
      "getting coprec and sym waveform [strain]\n",
      "ylm simname q8a08t60Ditm45dr075_96_360\n",
      "kind: strain\n",
      "calc initial j frame\n",
      "(\u001b[0;36m__rotate_frame_at_all_times__\u001b[0m)>> Attempting to rotate dynamics timeseries in this.dynamics\n",
      "(\u001b[0;36m__rotate_frame_at_all_times__\u001b[0m)>> Note that metadata at the scentry level (i.e. this.__scentry__) have not been rotated, but this.Sf, this.R1 and others have been rotated. This includes radiated and remnant quantities.\n",
      "calc coprecessing frame\n",
      "(\u001b[0;36mcalc_coprecessing_angles\u001b[0m)>> The domain values seem unevenly split between positive and negative values. Thus, we will interpret the input as corresponding to \u001b[92mTIME DOMAIN\u001b[0m data.\n",
      "(\u001b[0;36mcalc_coprecessing_angles\u001b[0m)>> The domain values seem evenly split between positive and negative values. Thus, we will interpret the input as corresponding to \u001b[92mFREQUENCY DOMAIN\u001b[0m data.\n",
      "(\u001b[0;36m__rotate_frame_at_all_times__\u001b[0m)>> Attempting to rotate dynamics timeseries in this.dynamics\n",
      "(\u001b[0;36m__rotate_frame_at_all_times__\u001b[0m)>> Note that metadata at the scentry level (i.e. this.__scentry__) have not been rotated, but this.Sf, this.R1 and others have been rotated. This includes radiated and remnant quantities.\n",
      "t1 = -2107.2\n",
      "t2 = 343.5\n",
      "computing symmetrised waveform\n",
      "**should check sign convention here I use +1.j\n",
      "working with h22_plus\n",
      "resampling\n",
      "**should check sign convention here I use +1.j\n",
      "done\n",
      "*****\n",
      "[-2112.0, -2107.2]\n",
      "[338.6999999999998, 343.5]\n",
      "*****\n",
      "common_t1: -2107.2\n",
      "common_t2: 338.7\n",
      "resampling psi4 and strain to a common time grid\n",
      "making file: data/q8a08t60Ditm45dr075_96_360.h5\n",
      "CPU times: user 3min 26s, sys: 741 ms, total: 3min 26s\n",
      "Wall time: 3min 27s\n"
     ]
    }
   ],
   "source": [
    "%%time\n",
    "lmax=2\n",
    "gwylm_verbose=False\n",
    "verbose=True\n",
    "output_dir='data'\n",
    "npts=5000\n",
    "my_makedir(output_dir)\n",
    "for obj in A:\n",
    "    save_data(screnty_ob=obj, output_dir=output_dir, lmax=lmax, gwylm_verbose=gwylm_verbose, verbose=verbose, npts=npts)"
   ]
  },
  {
   "cell_type": "code",
   "execution_count": null,
   "metadata": {},
   "outputs": [],
   "source": []
  },
  {
   "cell_type": "code",
   "execution_count": null,
   "metadata": {},
   "outputs": [],
   "source": []
  },
  {
   "cell_type": "code",
   "execution_count": 177,
   "metadata": {},
   "outputs": [],
   "source": [
    "def read_data(filename):\n",
    "    with h5py.File(filename, 'r') as f:\n",
    "        print(f.keys())\n",
    "        print(f.attrs.keys())\n",
    "        print(f['times'])\n",
    "        \n",
    "        fig, axes = plt.subplots(1, 2, figsize=(14,5))\n",
    "        axes[0].plot(f['times'], np.real(f['psi4']))\n",
    "        axes[1].plot(f['times'], np.real(f['strain']))\n",
    "        axes[0].set_xlim(-100,100)\n",
    "        axes[1].set_xlim(-100,100)\n",
    "  \n",
    "        psi4_phi = compute_phase(f['psi4'])\n",
    "        strain_phi = compute_phase(f['strain'])\n",
    "        \n",
    "        fig, axes = plt.subplots(1, 2, figsize=(14,5))\n",
    "        axes[0].plot(f['times'], psi4_phi)\n",
    "        axes[1].plot(f['times'], strain_phi)\n",
    "#         axes[0].set_xlim(-100,100)\n",
    "#         axes[1].set_xlim(-100,100)\n",
    "\n",
    "\n",
    "        psi4_dphi = compute_dphase(f['psi4'], f['times'])\n",
    "        strain_dphi = compute_dphase(f['strain'], f['times'])\n",
    "        \n",
    "        fig, axes = plt.subplots(1, 2, figsize=(14,5))\n",
    "        axes[0].plot(f['times'], psi4_dphi)\n",
    "        axes[1].plot(f['times'], strain_dphi)\n",
    "#         axes[0].set_xlim(-100,100)\n",
    "#         axes[1].set_xlim(-100,100)\n",
    "        return f['times'][:], f['psi4'][:]"
   ]
  },
  {
   "cell_type": "code",
   "execution_count": 178,
   "metadata": {},
   "outputs": [
    {
     "name": "stdout",
     "output_type": "stream",
     "text": [
      "[u'psi4', u'strain', u'times']\n",
      "[u'X1', u'X2', u'eta', u'simname']\n",
      "<HDF5 dataset \"times\": shape (5000,), type \"<f8\">\n"
     ]
    },
    {
     "data": {
      "image/png": "[encoded data removed]",
      "text/plain": [
       "<Figure size 1008x360 with 2 Axes>"
      ]
     },
     "metadata": {
      "needs_background": "light"
     },
     "output_type": "display_data"
    },
    {
     "data": {
      "image/png": "[encoded data removed]",
      "text/plain": [
       "<Figure size 1008x360 with 2 Axes>"
      ]
     },
     "metadata": {
      "needs_background": "light"
     },
     "output_type": "display_data"
    },
    {
     "data": {
      "image/png": "[encoded data removed]",
      "text/plain": [
       "<Figure size 1008x360 with 2 Axes>"
      ]
     },
     "metadata": {
      "needs_background": "light"
     },
     "output_type": "display_data"
    }
   ],
   "source": [
    "t, psi4 = read_data('data/q8a08t60Ditm45dr075_96_360.h5')"
   ]
  },
  {
   "cell_type": "code",
   "execution_count": null,
   "metadata": {},
   "outputs": [],
   "source": []
  }
 ],
 "metadata": {
  "kernelspec": {
   "display_name": "nrutils",
   "language": "python",
   "name": "nrutils"
  },
  "language_info": {
   "codemirror_mode": {
    "name": "ipython",
    "version": 2
   },
   "file_extension": ".py",
   "mimetype": "text/x-python",
   "name": "python",
   "nbconvert_exporter": "python",
   "pygments_lexer": "ipython2",
   "version": "2.7.15"
  }
 },
 "nbformat": 4,
 "nbformat_minor": 4
}
