{
 "cells": [
  {
   "cell_type": "code",
   "execution_count": 1,
   "metadata": {},
   "outputs": [],
   "source": [
    "sims = ['q1a04t30_dPm2_T_96_552', 'q1a04t60_dPm1_T_96_552', 'q1a04t90_dP0_T_96_552', 'q1a04t120_dP0_T_96_552', 'q1a04t150_dP0_T_96_552',  'q1a08t30dPm25_T_96_408', 'q1a08t60dPm1.5_T_96_408', 'q1a08t90dPm1_T_96_408', 'q1a08t120dP0_T_96_408', 'q1a08t150dP0_T_96_408', 'q2a04t30dPm2_T_96_408', 'q2a04t60dPm1_T_96_408', 'q2a04t90dPm1_T_96_408', 'q2a04t120_T_96_408', 'q2a04t150_T_96_408', 'q2_a10_a28_ph0_th30', 'q2_a10_a28_ph0_th60', 'q2_a10_a28_ph0_th90', 'q2_a10_a28_ph0_th120', 'q2_a10_a28_ph0_th150', 'q4a04t30_T_96_360', 'q4a04t60dPm1.5D_T_96_360', 'q4a04t90_T_96_360', 'q4a04t120dP0D_T_96_360', 'q4a04t150_T_96_360', 'q4a08t30dPm5p5dRm47_T_96_360', 'q4a08t60dPm3dRm250_T_96_384', 'q4a08t90dPm1D_T_96_384', 'q4a08t120dP1_T_96_360', 'q4a08t150_T_96_360',  'q8a04t30dPm3_T_96_360', 'q8a04t60D_dPm1', 'q8a04t90dP0_T_96_360', 'q8a04t120dPp1_T_96_360', 'q8a04t150dP9_T_96_360', 'q8a08t30dPm9.35_r0.5_T_96_360', 'q8a08t60Ditm45dr075_96_360', 'q8a08t90dP0_T_96_384', 'q8a08t120dP2_r03_T_96_360', 'q8a08t150dP2_T_120_480']"
   ]
  },
  {
   "cell_type": "code",
   "execution_count": 2,
   "metadata": {},
   "outputs": [
    {
     "data": {
      "text/plain": [
       "['q1a04t30_dPm2_T_96_552',\n",
       " 'q1a04t60_dPm1_T_96_552',\n",
       " 'q1a04t90_dP0_T_96_552',\n",
       " 'q1a04t120_dP0_T_96_552',\n",
       " 'q1a04t150_dP0_T_96_552',\n",
       " 'q1a08t30dPm25_T_96_408',\n",
       " 'q1a08t60dPm1.5_T_96_408',\n",
       " 'q1a08t90dPm1_T_96_408',\n",
       " 'q1a08t120dP0_T_96_408',\n",
       " 'q1a08t150dP0_T_96_408',\n",
       " 'q2a04t30dPm2_T_96_408',\n",
       " 'q2a04t60dPm1_T_96_408',\n",
       " 'q2a04t90dPm1_T_96_408',\n",
       " 'q2a04t120_T_96_408',\n",
       " 'q2a04t150_T_96_408',\n",
       " 'q2_a10_a28_ph0_th30',\n",
       " 'q2_a10_a28_ph0_th60',\n",
       " 'q2_a10_a28_ph0_th90',\n",
       " 'q2_a10_a28_ph0_th120',\n",
       " 'q2_a10_a28_ph0_th150',\n",
       " 'q4a04t30_T_96_360',\n",
       " 'q4a04t60dPm1.5D_T_96_360',\n",
       " 'q4a04t90_T_96_360',\n",
       " 'q4a04t120dP0D_T_96_360',\n",
       " 'q4a04t150_T_96_360',\n",
       " 'q4a08t30dPm5p5dRm47_T_96_360',\n",
       " 'q4a08t60dPm3dRm250_T_96_384',\n",
       " 'q4a08t90dPm1D_T_96_384',\n",
       " 'q4a08t120dP1_T_96_360',\n",
       " 'q4a08t150_T_96_360',\n",
       " 'q8a04t30dPm3_T_96_360',\n",
       " 'q8a04t60D_dPm1',\n",
       " 'q8a04t90dP0_T_96_360',\n",
       " 'q8a04t120dPp1_T_96_360',\n",
       " 'q8a04t150dP9_T_96_360',\n",
       " 'q8a08t30dPm9.35_r0.5_T_96_360',\n",
       " 'q8a08t60Ditm45dr075_96_360',\n",
       " 'q8a08t90dP0_T_96_384',\n",
       " 'q8a08t120dP2_r03_T_96_360',\n",
       " 'q8a08t150dP2_T_120_480']"
      ]
     },
     "execution_count": 2,
     "metadata": {},
     "output_type": "execute_result"
    }
   ],
   "source": [
    "sims"
   ]
  },
  {
   "cell_type": "code",
   "execution_count": 3,
   "metadata": {},
   "outputs": [
    {
     "data": {
      "text/plain": [
       "40"
      ]
     },
     "execution_count": 3,
     "metadata": {},
     "output_type": "execute_result"
    }
   ],
   "source": [
    "len(sims)"
   ]
  },
  {
   "cell_type": "code",
   "execution_count": 4,
   "metadata": {},
   "outputs": [],
   "source": [
    "import glob"
   ]
  },
  {
   "cell_type": "code",
   "execution_count": 15,
   "metadata": {},
   "outputs": [],
   "source": [
    "results = glob.glob(\"/home/sebastian.khan/**/q1a04t30_dPm2_T_96_552\", recursive=True)"
   ]
  },
  {
   "cell_type": "code",
   "execution_count": 16,
   "metadata": {},
   "outputs": [
    {
     "data": {
      "text/plain": [
       "['/home/sebastian.khan/safelane/hogshead/NR_data/ReducedData-hogshead/q1/q1a04t30_dPm2_T_96_552']"
      ]
     },
     "execution_count": 16,
     "metadata": {},
     "output_type": "execute_result"
    }
   ],
   "source": [
    "results"
   ]
  },
  {
   "cell_type": "code",
   "execution_count": 24,
   "metadata": {},
   "outputs": [],
   "source": [
    "results = []\n",
    "for sim in sims:\n",
    "    res_tmp = glob.glob(f\"/home/sebastian.khan/safelane/**/{sim}\", recursive=True)\n",
    "    if len(res_tmp) == 1:\n",
    "        results.append(res_tmp[0])"
   ]
  },
  {
   "cell_type": "code",
   "execution_count": 27,
   "metadata": {},
   "outputs": [
    {
     "data": {
      "text/plain": [
       "29"
      ]
     },
     "execution_count": 27,
     "metadata": {},
     "output_type": "execute_result"
    }
   ],
   "source": [
    "len(results)"
   ]
  },
  {
   "cell_type": "code",
   "execution_count": 28,
   "metadata": {},
   "outputs": [
    {
     "data": {
      "text/plain": [
       "['/home/sebastian.khan/safelane/hogshead/NR_data/ReducedData-hogshead/q1/q1a04t30_dPm2_T_96_552',\n",
       " '/home/sebastian.khan/safelane/hogshead/NR_data/ReducedData-hogshead/q1/q1a04t90_dP0_T_96_552',\n",
       " '/home/sebastian.khan/safelane/hogshead/NR_data/ReducedData-hogshead/q1/q1a04t120_dP0_T_96_552',\n",
       " '/home/sebastian.khan/safelane/hogshead/NR_data/ReducedData-hogshead/q1/q1a04t150_dP0_T_96_552',\n",
       " '/home/sebastian.khan/safelane/hogshead/NR_data/ReducedData-hogshead/q1/q1a08t30dPm25_T_96_408',\n",
       " '/home/sebastian.khan/safelane/hogshead/NR_data/ReducedData-hogshead/q1/q1a08t60dPm1.5_T_96_408',\n",
       " '/home/sebastian.khan/safelane/hogshead/NR_data/ReducedData-hogshead/q1/q1a08t90dPm1_T_96_408',\n",
       " '/home/sebastian.khan/safelane/hogshead/NR_data/ReducedData-hogshead/q1/q1a08t120dP0_T_96_408',\n",
       " '/home/sebastian.khan/safelane/hogshead/NR_data/ReducedData-hogshead/q1/q1a08t150dP0_T_96_408',\n",
       " '/home/sebastian.khan/safelane/hogshead/NR_data/ReducedData-hogshead/q2/q2a04t30dPm2_T_96_408',\n",
       " '/home/sebastian.khan/safelane/hogshead/NR_data/ReducedData-hogshead/q2/q2a04t60dPm1_T_96_408',\n",
       " '/home/sebastian.khan/safelane/hogshead/NR_data/ReducedData-hogshead/q2/q2a04t90dPm1_T_96_408',\n",
       " '/home/sebastian.khan/safelane/hogshead/NR_data/ReducedData-hogshead/q2/q2a04t120_T_96_408',\n",
       " '/home/sebastian.khan/safelane/hogshead/NR_data/ReducedData-hogshead/q2/q2a04t150_T_96_408',\n",
       " '/home/sebastian.khan/safelane/hogshead/NR_data/ReducedData-hogshead/q4/q4a04t60dPm1.5D_T_96_360',\n",
       " '/home/sebastian.khan/safelane/hogshead/NR_data/ReducedData-hogshead/q4/q4a04t90_T_96_360',\n",
       " '/home/sebastian.khan/safelane/hogshead/NR_data/ReducedData-hogshead/q4/q4a04t120dP0D_T_96_360',\n",
       " '/home/sebastian.khan/safelane/hogshead/NR_data/ReducedData-hogshead/q4/q4a04t150_T_96_360',\n",
       " '/home/sebastian.khan/safelane/hogshead/NR_data/ReducedData-hogshead/q4/q4a08t90dPm1D_T_96_384',\n",
       " '/home/sebastian.khan/safelane/hogshead/NR_data/ReducedData-hogshead/q4/q4a08t120dP1_T_96_360',\n",
       " '/home/sebastian.khan/safelane/hogshead/NR_data/ReducedData-hogshead/q4/q4a08t150_T_96_360',\n",
       " '/home/sebastian.khan/safelane/hogshead/NR_data/ReducedData-hogshead/q8precessing/q8a04t30dPm3_T_96_360',\n",
       " '/home/sebastian.khan/safelane/hogshead/NR_data/ReducedData-hogshead/q8precessing/q8a04t60D_dPm1',\n",
       " '/home/sebastian.khan/safelane/hogshead/NR_data/ReducedData-hogshead/q8precessing/q8a04t90dP0_T_96_360',\n",
       " '/home/sebastian.khan/safelane/hogshead/NR_data/ReducedData-hogshead/q8precessing/q8a04t120dPp1_T_96_360',\n",
       " '/home/sebastian.khan/safelane/hogshead/NR_data/ReducedData-hogshead/q8precessing/q8a04t150dP9_T_96_360',\n",
       " '/home/sebastian.khan/safelane/hogshead/NR_data/ReducedData-hogshead/q8precessing/q8a08t30dPm9.35_r0.5_T_96_360',\n",
       " '/home/sebastian.khan/safelane/hogshead/NR_data/ReducedData-hogshead/q8precessing/q8a08t60Ditm45dr075_96_360',\n",
       " '/home/sebastian.khan/safelane/hogshead/NR_data/ReducedData-hogshead/q8precessing/q8a08t120dP2_r03_T_96_360']"
      ]
     },
     "execution_count": 28,
     "metadata": {},
     "output_type": "execute_result"
    }
   ],
   "source": [
    "results"
   ]
  },
  {
   "cell_type": "code",
   "execution_count": null,
   "metadata": {},
   "outputs": [],
   "source": []
  }
 ],
 "metadata": {
  "kernelspec": {
   "display_name": "puck",
   "language": "python",
   "name": "puck"
  },
  "language_info": {
   "codemirror_mode": {
    "name": "ipython",
    "version": 3
   },
   "file_extension": ".py",
   "mimetype": "text/x-python",
   "name": "python",
   "nbconvert_exporter": "python",
   "pygments_lexer": "ipython3",
   "version": "3.7.6"
  }
 },
 "nbformat": 4,
 "nbformat_minor": 4
}
