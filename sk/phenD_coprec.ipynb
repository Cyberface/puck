{
 "cells": [
  {
   "cell_type": "markdown",
   "metadata": {},
   "source": [
    "# how to import dev phenom"
   ]
  },
  {
   "cell_type": "code",
   "execution_count": 1,
   "metadata": {},
   "outputs": [],
   "source": [
    "import sys"
   ]
  },
  {
   "cell_type": "code",
   "execution_count": 2,
   "metadata": {},
   "outputs": [],
   "source": [
    "sys.path.insert(0, \"/home/sebastian.khan/git/phenom/\")"
   ]
  },
  {
   "cell_type": "code",
   "execution_count": 3,
   "metadata": {},
   "outputs": [],
   "source": [
    "import phenom"
   ]
  },
  {
   "cell_type": "code",
   "execution_count": 4,
   "metadata": {},
   "outputs": [
    {
     "data": {
      "text/plain": [
       "'/home/sebastian.khan/git/phenom/phenom/__init__.py'"
      ]
     },
     "execution_count": 4,
     "metadata": {},
     "output_type": "execute_result"
    }
   ],
   "source": [
    "phenom.__file__"
   ]
  },
  {
   "cell_type": "code",
   "execution_count": 5,
   "metadata": {},
   "outputs": [],
   "source": [
    "import numpy as np"
   ]
  },
  {
   "cell_type": "code",
   "execution_count": 6,
   "metadata": {},
   "outputs": [],
   "source": [
    "def cart_to_polar(x, y, z):\n",
    "    \"\"\"\n",
    "    cartesian to spherical polar transformation.\n",
    "    phi (azimuthal angle) between [0, 2*pi]\n",
    "    returns: r, theta, phi\n",
    "    \"\"\"\n",
    "    hxy = np.hypot(x, y)\n",
    "    r = np.hypot(hxy, z)\n",
    "    theta = np.arctan2(hxy, z)\n",
    "    phi = np.arctan2(y, x)\n",
    "    phi = phi % (2 * np.pi)\n",
    "    return r, theta, phi\n",
    "\n",
    "\n",
    "def polar_to_cart(r, theta, phi):\n",
    "    \"\"\"\n",
    "    spherical polar to cartesian transformation\n",
    "    returns: x, y, z\n",
    "    \"\"\"\n",
    "    x = r * np.sin(theta) * np.cos(phi)\n",
    "    y = r * np.sin(theta) * np.sin(phi)\n",
    "    z = r * np.cos(theta)\n",
    "    return x, y, z"
   ]
  },
  {
   "cell_type": "code",
   "execution_count": 7,
   "metadata": {},
   "outputs": [
    {
     "name": "stdout",
     "output_type": "stream",
     "text": [
      "0.7999612492348375 0.0 -0.005541128516095268\n"
     ]
    }
   ],
   "source": [
    "m1 = 80\n",
    "m2 = 20\n",
    "chi1x, chi1y, chi1z = polar_to_cart(0.79998044, np.arccos(-0.00692658), 0)\n",
    "print(chi1x, chi1y, chi1z)"
   ]
  },
  {
   "cell_type": "markdown",
   "metadata": {},
   "source": [
    "# example PhenomD amp and phase"
   ]
  },
  {
   "cell_type": "code",
   "execution_count": 8,
   "metadata": {},
   "outputs": [
    {
     "name": "stdout",
     "output_type": "stream",
     "text": [
      "initialising instance of PhenomD class\n",
      "physical parameters of the instance:\n",
      "ph.p['m1'] =  80.0\n",
      "ph.p['m2'] =  20.0\n",
      "ph.p['chi1z'] =  -0.005541128516095268\n",
      "ph.p['chi2z'] =  0.0\n",
      "\n",
      "f_min =  10.0\n",
      "f_max =  406.0508870342998\n",
      "delta_f =  0.125\n",
      "generate htilde with 'ph.IMRPhenomDGenerateFD()'\n",
      "get amplitude and phase from htilde with 'ph.getampandphase(htilde)'\n",
      "output frequency series = ph.flist_Hz.\n",
      "to get the frequencies in dimensionless (geometric) frequencies use\n",
      "phenom.HztoMf(ph.flist_Hz, ph.p['Mtot'])\n",
      "test plots\n"
     ]
    },
    {
     "data": {
      "image/png": "[encoded data removed]",
      "text/plain": [
       "<Figure size 864x288 with 2 Axes>"
      ]
     },
     "metadata": {
      "needs_background": "light"
     },
     "output_type": "display_data"
    }
   ],
   "source": [
    "print( \"initialising instance of PhenomD class\")\n",
    "ph = phenom.PhenomD(m1=m1, m2=m2, chi1z=chi1z, f_min=10, delta_f=1./8.)\n",
    "\n",
    "\n",
    "print (\"physical parameters of the instance:\")\n",
    "print (\"ph.p['m1'] = \", ph.p['m1'])\n",
    "print (\"ph.p['m2'] = \", ph.p['m2'])\n",
    "print (\"ph.p['chi1z'] = \", ph.p['chi1z'])\n",
    "print (\"ph.p['chi2z'] = \", ph.p['chi2z'])\n",
    "\n",
    "print (\"\")\n",
    "\n",
    "print (\"f_min = \", ph.p['f_min'])\n",
    "print (\"f_max = \", ph.p['f_max'])\n",
    "print (\"delta_f = \", ph.p['delta_f'])\n",
    "\n",
    "print (\"generate htilde with 'ph.IMRPhenomDGenerateFD()'\")\n",
    "ph.IMRPhenomDGenerateFD()\n",
    "\n",
    "print (\"get amplitude and phase from htilde with 'ph.getampandphase(htilde)'\")\n",
    "ph.getampandphase(ph.htilde)\n",
    "\n",
    "print (\"output frequency series = ph.flist_Hz.\")\n",
    "print (\"to get the frequencies in dimensionless (geometric) frequencies use\")\n",
    "print (\"phenom.HztoMf(ph.flist_Hz, ph.p['Mtot'])\")\n",
    "\n",
    "\n",
    "print (\"test plots\")\n",
    "\n",
    "import matplotlib\n",
    "# matplotlib.use('MacOSX')\n",
    "import matplotlib.pyplot as plt\n",
    "import numpy as np\n",
    "from phenom.utils.utils import HztoMf\n",
    "\n",
    "f_in_Mf = HztoMf(ph.flist_Hz, ph.p['m1']+ph.p['m2'])\n",
    "\n",
    "fig, ax = plt.subplots(nrows=1, ncols=2, figsize=(12, 4))\n",
    "fig.suptitle('amplitde (left), phase (right)')\n",
    "\n",
    "ax[0].plot(f_in_Mf, ph.amp)\n",
    "ax[0].set_xscale('log')\n",
    "ax[0].set_yscale('log')\n",
    "ax[0].set_ylabel('$|h(f)|$')\n",
    "ax[0].set_xlabel('$Mf$')\n",
    "\n",
    "ax[1].plot(f_in_Mf, ph.phase)\n",
    "ax[1].set_xscale('log')\n",
    "ax[1].set_ylabel('$\\phi(f)$')\n",
    "ax[1].set_xlabel('$Mf$')\n",
    "\n",
    "# fig.tight_layout()\n",
    "# plt.savefig('./amp-and-phase-example-plot.png')\n",
    "plt.show()"
   ]
  },
  {
   "cell_type": "code",
   "execution_count": 9,
   "metadata": {},
   "outputs": [
    {
     "data": {
      "text/plain": [
       "dict_keys(['m1', 'm2', 'chi1z', 'chi2z', 'f_min', 'f_max', 'delta_f', 'distance', 'fRef', 'phiRef', 'Mtot', 'eta', 'chipn'])"
      ]
     },
     "execution_count": 9,
     "metadata": {},
     "output_type": "execute_result"
    }
   ],
   "source": [
    "ph.p.keys()"
   ]
  },
  {
   "cell_type": "code",
   "execution_count": null,
   "metadata": {},
   "outputs": [],
   "source": []
  },
  {
   "cell_type": "code",
   "execution_count": null,
   "metadata": {},
   "outputs": [],
   "source": []
  },
  {
   "cell_type": "markdown",
   "metadata": {},
   "source": [
    "# example PhenomD coprec amp and phase"
   ]
  },
  {
   "cell_type": "code",
   "execution_count": 10,
   "metadata": {},
   "outputs": [],
   "source": [
    "from phenom.waveform import phenomD_coprec as pdc"
   ]
  },
  {
   "cell_type": "code",
   "execution_count": 11,
   "metadata": {},
   "outputs": [
    {
     "name": "stdout",
     "output_type": "stream",
     "text": [
      "initialising instance of PhenomD COPREC class\n",
      "physical parameters of the instance:\n",
      "ph.p['m1'] =  80.0\n",
      "ph.p['m2'] =  20.0\n",
      "ph.p['chi1z'] =  -0.005541128516095268\n",
      "ph.p['chi2z'] =  0.0\n",
      "\n",
      "f_min =  10.0\n",
      "f_max =  406.0508870342998\n",
      "delta_f =  0.125\n",
      "generate htilde with 'ph.IMRPhenomDGenerateFD()'\n",
      "get amplitude and phase from htilde with 'ph.getampandphase(htilde)'\n",
      "output frequency series = ph.flist_Hz.\n",
      "to get the frequencies in dimensionless (geometric) frequencies use\n",
      "phenom.HztoMf(ph.flist_Hz, ph.p['Mtot'])\n",
      "test plots\n"
     ]
    },
    {
     "data": {
      "image/png": "[encoded data removed]",
      "text/plain": [
       "<Figure size 864x288 with 2 Axes>"
      ]
     },
     "metadata": {
      "needs_background": "light"
     },
     "output_type": "display_data"
    }
   ],
   "source": [
    "print( \"initialising instance of PhenomD COPREC class\")\n",
    "ph_coprec = pdc.PhenomDCOPREC(m1=m1, m2=m2, chi1x=chi1x, chi1z=chi1z, f_min=10, delta_f=1./8.)\n",
    "\n",
    "\n",
    "print (\"physical parameters of the instance:\")\n",
    "print (\"ph.p['m1'] = \", ph_coprec.p['m1'])\n",
    "print (\"ph.p['m2'] = \", ph_coprec.p['m2'])\n",
    "print (\"ph.p['chi1z'] = \", ph_coprec.p['chi1z'])\n",
    "print (\"ph.p['chi2z'] = \", ph_coprec.p['chi2z'])\n",
    "\n",
    "print (\"\")\n",
    "\n",
    "print (\"f_min = \", ph_coprec.p['f_min'])\n",
    "print (\"f_max = \", ph_coprec.p['f_max'])\n",
    "print (\"delta_f = \", ph_coprec.p['delta_f'])\n",
    "\n",
    "print (\"generate htilde with 'ph.IMRPhenomDGenerateFD()'\")\n",
    "ph_coprec.IMRPhenomDGenerateFD()\n",
    "\n",
    "print (\"get amplitude and phase from htilde with 'ph.getampandphase(htilde)'\")\n",
    "ph_coprec.getampandphase(ph_coprec.htilde)\n",
    "\n",
    "print (\"output frequency series = ph.flist_Hz.\")\n",
    "print (\"to get the frequencies in dimensionless (geometric) frequencies use\")\n",
    "print (\"phenom.HztoMf(ph.flist_Hz, ph.p['Mtot'])\")\n",
    "\n",
    "\n",
    "print (\"test plots\")\n",
    "\n",
    "import matplotlib\n",
    "# matplotlib.use('MacOSX')\n",
    "import matplotlib.pyplot as plt\n",
    "import numpy as np\n",
    "from phenom.utils.utils import HztoMf\n",
    "\n",
    "ph_coprec_f_in_Mf = HztoMf(ph_coprec.flist_Hz, ph_coprec.p['m1']+ph_coprec.p['m2'])\n",
    "\n",
    "fig, ax = plt.subplots(nrows=1, ncols=2, figsize=(12, 4))\n",
    "fig.suptitle('amplitde (left), phase (right)')\n",
    "\n",
    "ax[0].plot(ph_coprec_f_in_Mf, ph_coprec.amp)\n",
    "ax[0].set_xscale('log')\n",
    "ax[0].set_yscale('log')\n",
    "ax[0].set_ylabel('$|h(f)|$')\n",
    "ax[0].set_xlabel('$Mf$')\n",
    "\n",
    "ax[1].plot(ph_coprec_f_in_Mf, ph_coprec.phase)\n",
    "ax[1].set_xscale('log')\n",
    "ax[1].set_ylabel('$\\phi(f)$')\n",
    "ax[1].set_xlabel('$Mf$')\n",
    "\n",
    "# fig.tight_layout()\n",
    "# plt.savefig('./amp-and-phase-example-plot.png')\n",
    "plt.show()"
   ]
  },
  {
   "cell_type": "code",
   "execution_count": 12,
   "metadata": {},
   "outputs": [
    {
     "data": {
      "text/plain": [
       "dict_keys(['m1', 'm2', 'chi1x', 'chi1y', 'chi1z', 'chi2x', 'chi2y', 'chi2z', 'f_min', 'f_max', 'delta_f', 'distance', 'fRef', 'phiRef', 'chip', 'Mtot', 'eta', 'chipn', 'chi1', 'theta1', 'phi1', 'costheta1'])"
      ]
     },
     "execution_count": 12,
     "metadata": {},
     "output_type": "execute_result"
    }
   ],
   "source": [
    "ph_coprec.p.keys()"
   ]
  },
  {
   "cell_type": "code",
   "execution_count": null,
   "metadata": {},
   "outputs": [],
   "source": []
  },
  {
   "cell_type": "markdown",
   "metadata": {},
   "source": [
    "## compare"
   ]
  },
  {
   "cell_type": "code",
   "execution_count": 13,
   "metadata": {},
   "outputs": [
    {
     "data": {
      "text/plain": [
       "<matplotlib.legend.Legend at 0x2b9d7838e690>"
      ]
     },
     "execution_count": 13,
     "metadata": {},
     "output_type": "execute_result"
    },
    {
     "data": {
      "image/png": "[encoded data removed]",
      "text/plain": [
       "<Figure size 432x288 with 1 Axes>"
      ]
     },
     "metadata": {
      "needs_background": "light"
     },
     "output_type": "display_data"
    }
   ],
   "source": [
    "plt.figure()\n",
    "plt.plot(f_in_Mf, ph.amp, label='phenD')\n",
    "plt.plot(f_in_Mf, ph_coprec.amp, label='coprec')\n",
    "plt.yscale('log')\n",
    "plt.xscale('log')\n",
    "plt.legend()"
   ]
  },
  {
   "cell_type": "code",
   "execution_count": null,
   "metadata": {},
   "outputs": [],
   "source": []
  },
  {
   "cell_type": "code",
   "execution_count": null,
   "metadata": {},
   "outputs": [],
   "source": []
  },
  {
   "cell_type": "code",
   "execution_count": 14,
   "metadata": {},
   "outputs": [],
   "source": [
    "from scipy.interpolate import InterpolatedUnivariateSpline as IUS"
   ]
  },
  {
   "cell_type": "code",
   "execution_count": 15,
   "metadata": {},
   "outputs": [],
   "source": [
    "pd_dphase = IUS(f_in_Mf, ph.phase).derivative()(f_in_Mf)\n",
    "coprec_dphase = IUS(ph_coprec_f_in_Mf, ph_coprec.phase).derivative()(f_in_Mf)"
   ]
  },
  {
   "cell_type": "code",
   "execution_count": 19,
   "metadata": {},
   "outputs": [
    {
     "data": {
      "text/plain": [
       "(44500.0, 46000.0)"
      ]
     },
     "execution_count": 19,
     "metadata": {},
     "output_type": "execute_result"
    },
    {
     "data": {
      "image/png": "[encoded data removed]",
      "text/plain": [
       "<Figure size 432x288 with 1 Axes>"
      ]
     },
     "metadata": {
      "needs_background": "light"
     },
     "output_type": "display_data"
    }
   ],
   "source": [
    "plt.figure()\n",
    "plt.plot(f_in_Mf, -(pd_dphase-pd_dphase[0]))\n",
    "plt.plot(f_in_Mf, -(coprec_dphase-coprec_dphase[0]))\n",
    "plt.ylim(44500, 46000)"
   ]
  },
  {
   "cell_type": "code",
   "execution_count": null,
   "metadata": {},
   "outputs": [],
   "source": []
  },
  {
   "cell_type": "markdown",
   "metadata": {},
   "source": [
    "# dev how to call pickled models"
   ]
  },
  {
   "cell_type": "markdown",
   "metadata": {},
   "source": [
    "the coprec fits are functions of:\n",
    "\n",
    "    - eta\n",
    "    - cos(theta)\n",
    "    - chi1_mag\n",
    "    \n",
    "so we need to convert from cartesian spins to these"
   ]
  },
  {
   "cell_type": "code",
   "execution_count": 25,
   "metadata": {},
   "outputs": [],
   "source": [
    "import psf\n",
    "import scale\n",
    "import os"
   ]
  },
  {
   "cell_type": "code",
   "execution_count": 26,
   "metadata": {},
   "outputs": [],
   "source": [
    "from ansatz import ampmrd_func, dphimrd_func\n",
    "\n",
    "from lmfit import Model, Parameter, report_fit"
   ]
  },
  {
   "cell_type": "code",
   "execution_count": 48,
   "metadata": {},
   "outputs": [],
   "source": [
    "def coprec_alpha1Fit(p):\n",
    "    eta = p['eta']\n",
    "    costheta1 = p['costheta1']\n",
    "    chi1 = p['chi1']\n",
    "    \n",
    "    parname = 'a1'\n",
    "    \n",
    "    coords = np.array([eta, costheta1, chi1]).reshape(1,-1)\n",
    "    \n",
    "    phase_X_scalers = scale.load_scalers(os.path.join(\"phase\", parname, \"X_scalers.npy\"))\n",
    "    phase_Y_scalers = scale.load_scalers(os.path.join(\"phase\", parname, \"Y_scalers.npy\"))\n",
    "    \n",
    "    par_model_high = psf.load_model(filename=f'phase_high/{parname}/model.pickle')\n",
    "    scaled_coords = scale.apply_scaler(coords, phase_X_scalers)\n",
    "    scaled_yhat = par_model_high.predict(scaled_coords.reshape(1,-1))\n",
    "    yhat = scale.apply_inverse_scaler(scaled_yhat.reshape(-1,1), phase_Y_scalers)[:,0]\n",
    "    return yhat"
   ]
  },
  {
   "cell_type": "code",
   "execution_count": 49,
   "metadata": {},
   "outputs": [
    {
     "data": {
      "text/plain": [
       "array([-668.65139071])"
      ]
     },
     "execution_count": 49,
     "metadata": {},
     "output_type": "execute_result"
    }
   ],
   "source": [
    "coprec_alpha1Fit({'eta':0.1600004, 'costheta1':-0.00692658, 'chi1':0.79998044})"
   ]
  },
  {
   "cell_type": "code",
   "execution_count": null,
   "metadata": {},
   "outputs": [],
   "source": []
  },
  {
   "cell_type": "code",
   "execution_count": null,
   "metadata": {},
   "outputs": [],
   "source": [
    "def get_coprec_dphi_mrd_coefficients()"
   ]
  },
  {
   "cell_type": "code",
   "execution_count": null,
   "metadata": {},
   "outputs": [],
   "source": [
    "model = Model(dphimrd_func, independent_vars=['f'])\n",
    "\n",
    "bf_params = model.make_params()\n",
    "\n",
    "bf_params['fdamp'].value = wf.fdamp\n",
    "bf_params['fdamp'].vary=False\n",
    "\n",
    "bf_params['frd'].value = wf.fring\n",
    "bf_params['frd'].vary=False\n",
    "\n",
    "bf_params['a1'].value = bf_coeffs[0]\n",
    "bf_params['a1'].vary=False\n",
    "\n",
    "bf_params['a2'].value = bf_coeffs[1]\n",
    "bf_params['a2'].vary=False\n",
    "\n",
    "bf_params['a3'].value = bf_coeffs[2]\n",
    "bf_params['a3'].vary=False\n",
    "\n",
    "bf_params['a4'].value = bf_coeffs[3]\n",
    "bf_params['a4'].vary=False\n",
    "\n",
    "bf_params['a5'].value = bf_coeffs[4]\n",
    "bf_params['a5'].vary=False\n",
    "\n",
    "bf_params['a6'].value = 1\n",
    "bf_params['a6'].vary=False\n",
    "\n",
    "y_bf = model.eval(bf_params, f=x)\n",
    "\n",
    "# model\n",
    "parnames = ['a1', 'a2', 'a3', 'a4', 'a5']\n",
    "fit_coeffs = dict(a6=1, fdamp=wf.fdamp, frd=wf.fring)\n",
    "\n",
    "bf_coords = bf_coords.reshape(1,-1)\n",
    "\n",
    "for parname in parnames:    \n",
    "    par_model_high = psf.load_model(filename=f'phase_high/{parname}/model.pickle')\n",
    "    bf_scaled_coords = scale.apply_scaler(bf_coords, phase_X_scalers[parname])\n",
    "    scaled_yhat = par_model_high.predict(bf_scaled_coords.reshape(1,-1))\n",
    "    yhat = scale.apply_inverse_scaler(scaled_yhat.reshape(-1,1), phase_Y_scalers[parname])[:,0]\n",
    "    fit_coeffs.update({parname:yhat})\n",
    "y_model_high = model.eval(f=x, **fit_coeffs)"
   ]
  },
  {
   "cell_type": "code",
   "execution_count": 18,
   "metadata": {},
   "outputs": [
    {
     "data": {
      "text/plain": [
       "array([[1, 2, 3]])"
      ]
     },
     "execution_count": 18,
     "metadata": {},
     "output_type": "execute_result"
    }
   ],
   "source": [
    "np.array([1,2,3]).reshape(1,-1)"
   ]
  },
  {
   "cell_type": "code",
   "execution_count": null,
   "metadata": {},
   "outputs": [],
   "source": []
  }
 ],
 "metadata": {
  "kernelspec": {
   "display_name": "puck",
   "language": "python",
   "name": "puck"
  },
  "language_info": {
   "codemirror_mode": {
    "name": "ipython",
    "version": 3
   },
   "file_extension": ".py",
   "mimetype": "text/x-python",
   "name": "python",
   "nbconvert_exporter": "python",
   "pygments_lexer": "ipython3",
   "version": "3.7.6"
  }
 },
 "nbformat": 4,
 "nbformat_minor": 4
}
