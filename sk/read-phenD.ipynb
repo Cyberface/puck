{
 "cells": [
  {
   "cell_type": "code",
   "execution_count": 1,
   "metadata": {},
   "outputs": [],
   "source": [
    "import pickle"
   ]
  },
  {
   "cell_type": "code",
   "execution_count": 2,
   "metadata": {},
   "outputs": [],
   "source": [
    "filename = \"/home/jonathan.thompson/pnr/coprec_matches/coprecessing_data.pkl\""
   ]
  },
  {
   "cell_type": "code",
   "execution_count": 5,
   "metadata": {},
   "outputs": [],
   "source": [
    "coprec_data = pickle.load( open( filename, \"rb\" ) )"
   ]
  },
  {
   "cell_type": "code",
   "execution_count": 7,
   "metadata": {},
   "outputs": [
    {
     "data": {
      "text/plain": [
       "['q8a04t150dP9_T_96_360',\n",
       " 'q1a08t120dP0_T_96_408',\n",
       " 'q2_a10_a28_ph0_th150',\n",
       " 'q2a04t60dPm1_T_96_408',\n",
       " 'q4a04t60dPm1.5D_T_96_360',\n",
       " 'q2a04t30dPm2_T_96_408',\n",
       " 'q8a04t120dPp1_T_96_360',\n",
       " 'q8a08t120dP2_r03_T_96_360',\n",
       " 'q4a04t150_T_96_360',\n",
       " 'q1a04t150_dP0_T_96_552',\n",
       " 'q1a04t30_dPm2_T_96_552',\n",
       " 'q4a04t90_T_96_360',\n",
       " 'q8a08t150dP2_T_120_480',\n",
       " 'q1a04t90_dP0_T_96_552',\n",
       " 'q1a04t120_dP0_T_96_552',\n",
       " 'q8a04t30dPm3_T_96_360',\n",
       " 'q1a08t30dPm25_T_96_408',\n",
       " 'q8a04t90dP0_T_96_360',\n",
       " 'q4a08t150_T_96_360',\n",
       " 'q8a08t90dP0_T_96_384',\n",
       " 'q8a08t60Ditm45dr075_96_360',\n",
       " 'q4a08t120dP1_T_96_360',\n",
       " 'q1a08t60dPm1.5_T_96_408',\n",
       " 'q1a04t60_dPm1_T_96_552',\n",
       " 'q4a04t30_T_96_360',\n",
       " 'q8a04t60D_dPm1',\n",
       " 'q2_a10_a28_ph0_th30',\n",
       " 'q4a08t30dPm5p5dRm47_T_96_360',\n",
       " 'q2a04t150_T_96_408',\n",
       " 'q8a08t30dPm9.35_r0.5_T_96_360',\n",
       " 'q2_a10_a28_ph0_th60',\n",
       " 'q4a08t60dPm3dRm250_T_96_384',\n",
       " 'q2a04t90dPm1_T_96_408',\n",
       " 'q2a04t120_T_96_408',\n",
       " 'q2_a10_a28_ph0_th120',\n",
       " 'q2_a10_a28_ph0_th90',\n",
       " 'q1a08t150dP0_T_96_408',\n",
       " 'q4a04t120dP0D_T_96_360',\n",
       " 'q4a08t90dPm1D_T_96_384',\n",
       " 'q1a08t90dPm1_T_96_408']"
      ]
     },
     "execution_count": 7,
     "metadata": {},
     "output_type": "execute_result"
    }
   ],
   "source": [
    "list(coprec_data)"
   ]
  },
  {
   "cell_type": "code",
   "execution_count": 9,
   "metadata": {},
   "outputs": [
    {
     "data": {
      "text/plain": [
       "['simulation_dir',\n",
       " 'mass1',\n",
       " 'mass2',\n",
       " 'coprecessing_metadata',\n",
       " 'BAM_frame_metadata',\n",
       " 'simulation_name',\n",
       " 'modified_phenomD_data',\n",
       " 'phenomD_data',\n",
       " 'mass1_NR',\n",
       " 'mass2_NR']"
      ]
     },
     "execution_count": 9,
     "metadata": {},
     "output_type": "execute_result"
    }
   ],
   "source": [
    "list(coprec_data[list(coprec_data)[0]])"
   ]
  },
  {
   "cell_type": "code",
   "execution_count": 21,
   "metadata": {},
   "outputs": [
    {
     "data": {
      "text/plain": [
       "100.0"
      ]
     },
     "execution_count": 21,
     "metadata": {},
     "output_type": "execute_result"
    }
   ],
   "source": [
    "coprec_data[list(coprec_data)[0]]['mass1'] + coprec_data[list(coprec_data)[0]]['mass2']"
   ]
  },
  {
   "cell_type": "code",
   "execution_count": 20,
   "metadata": {},
   "outputs": [
    {
     "data": {
      "text/plain": [
       "11.111066666800003"
      ]
     },
     "execution_count": 20,
     "metadata": {},
     "output_type": "execute_result"
    }
   ],
   "source": []
  },
  {
   "cell_type": "code",
   "execution_count": 11,
   "metadata": {},
   "outputs": [],
   "source": [
    "test = coprec_data[list(coprec_data)[0]]['phenomD_data']"
   ]
  },
  {
   "cell_type": "code",
   "execution_count": 14,
   "metadata": {},
   "outputs": [
    {
     "data": {
      "text/plain": [
       "(524289, 3)"
      ]
     },
     "execution_count": 14,
     "metadata": {},
     "output_type": "execute_result"
    }
   ],
   "source": [
    "test.shape"
   ]
  },
  {
   "cell_type": "code",
   "execution_count": 16,
   "metadata": {},
   "outputs": [],
   "source": [
    "import matplotlib\n",
    "import matplotlib.pyplot as plt"
   ]
  },
  {
   "cell_type": "code",
   "execution_count": 18,
   "metadata": {},
   "outputs": [
    {
     "data": {
      "text/plain": [
       "[<matplotlib.lines.Line2D at 0x2b7ee7cc6950>]"
      ]
     },
     "execution_count": 18,
     "metadata": {},
     "output_type": "execute_result"
    },
    {
     "data": {
      "image/png": "[encoded data removed]",
      "text/plain": [
       "<Figure size 432x288 with 1 Axes>"
      ]
     },
     "metadata": {
      "needs_background": "light"
     },
     "output_type": "display_data"
    }
   ],
   "source": [
    "plt.figure()\n",
    "plt.plot(test[:,0], test[:,1])"
   ]
  },
  {
   "cell_type": "code",
   "execution_count": null,
   "metadata": {},
   "outputs": [],
   "source": []
  }
 ],
 "metadata": {
  "kernelspec": {
   "display_name": "puck",
   "language": "python",
   "name": "puck"
  },
  "language_info": {
   "codemirror_mode": {
    "name": "ipython",
    "version": 3
   },
   "file_extension": ".py",
   "mimetype": "text/x-python",
   "name": "python",
   "nbconvert_exporter": "python",
   "pygments_lexer": "ipython3",
   "version": "3.7.6"
  }
 },
 "nbformat": 4,
 "nbformat_minor": 4
}
