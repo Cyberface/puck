{
 "cells": [
  {
   "cell_type": "markdown",
   "metadata": {},
   "source": [
    "# Generate model waveform"
   ]
  },
  {
   "cell_type": "code",
   "execution_count": 3,
   "metadata": {},
   "outputs": [
    {
     "name": "stdout",
     "output_type": "stream",
     "text": [
      "The autoreload extension is already loaded. To reload it, use:\n",
      "  %reload_ext autoreload\n"
     ]
    }
   ],
   "source": [
    "# Setup ipython environment\n",
    "%load_ext autoreload\n",
    "%autoreload 2\n",
    "%matplotlib inline\n",
    "from matplotlib.pyplot import *\n",
    "from numpy import *\n",
    "from positive import *\n",
    "from nrutils import scsearch, gwylm\n",
    "from pwca import *\n",
    "from glob import glob"
   ]
  },
  {
   "cell_type": "code",
   "execution_count": 4,
   "metadata": {},
   "outputs": [
    {
     "name": "stdout",
     "output_type": "stream",
     "text": [
      "(\u001b[0;36mscsearch\u001b[0m)>> Found \u001b[4mcatalog\u001b[0m (=...) keyword.\n",
      "(\u001b[0;36mscsearch\u001b[0m)>> Found \u001b[4mkeyword\u001b[0m (=q4a04t60dPm1.5D_T_96_360) keyword.\n",
      "(\u001b[0;36mscsearch\u001b[0m)>> Found \u001b[4mverbose\u001b[0m (=True) keyword.\n",
      "(\u001b[0;36mscsearch\u001b[0m)>> List of keywords or string keyword found: \u001b[0;36mALL scentry objects matching will be passed.\u001b[0m To pass ANY entries matching the keywords, input the keywords using an iterable of not of type list.\n",
      "## Found \u001b[1m1\u001b[0m\u001b[0;35m possibly degenerate\u001b[0m simulations:\n",
      "[0001][\u001b[92mhogshead\u001b[0m] \u001b[0;36mq4\u001b[0m: 1chi0.40-p-q4.00\t(\u001b[0;36mq4a04t60dPm1.5D_T_96_360\u001b[0m)\n",
      "\n"
     ]
    }
   ],
   "source": [
    "# Display basic info about calibration runs\n",
    "scsearch( catalog=pwca_catalog, keyword='q4a04t60dPm1.5D_T_96_360', verbose=True );"
   ]
  },
  {
   "cell_type": "code",
   "execution_count": 5,
   "metadata": {},
   "outputs": [
    {
     "ename": "ValueError",
     "evalue": "too many values to unpack",
     "output_type": "error",
     "traceback": [
      "\u001b[0;31m---------------------------------------------------------------------------\u001b[0m",
      "\u001b[0;31mValueError\u001b[0m                                Traceback (most recent call last)",
      "\u001b[0;32m<ipython-input-5-0b2c2eed1806>\u001b[0m in \u001b[0;36m<module>\u001b[0;34m()\u001b[0m\n\u001b[1;32m     35\u001b[0m     \u001b[0;31m# Load and unpuack OPTIMAL physical parameter space -- dphi\u001b[0m\u001b[0;34m\u001b[0m\u001b[0;34m\u001b[0m\u001b[0m\n\u001b[1;32m     36\u001b[0m     \u001b[0mdphi_range\u001b[0m \u001b[0;34m=\u001b[0m \u001b[0mloadtxt\u001b[0m\u001b[0;34m(\u001b[0m\u001b[0mdatadir\u001b[0m\u001b[0;34m+\u001b[0m\u001b[0;34m'fit_opt_dphase_parameters.txt'\u001b[0m\u001b[0;34m)\u001b[0m\u001b[0;34m\u001b[0m\u001b[0m\n\u001b[0;32m---> 37\u001b[0;31m     \u001b[0mopt_nu4\u001b[0m\u001b[0;34m,\u001b[0m\u001b[0mopt_nu5\u001b[0m\u001b[0;34m,\u001b[0m\u001b[0mopt_nu6\u001b[0m \u001b[0;34m=\u001b[0m \u001b[0mdphi_range\u001b[0m\u001b[0;34m[\u001b[0m\u001b[0mk\u001b[0m\u001b[0;34m,\u001b[0m\u001b[0;34m:\u001b[0m\u001b[0;34m]\u001b[0m\u001b[0;34m\u001b[0m\u001b[0m\n\u001b[0m\u001b[1;32m     38\u001b[0m     \u001b[0;31m# Load and unpuack OPTIMAL physical parameter space -- amp\u001b[0m\u001b[0;34m\u001b[0m\u001b[0;34m\u001b[0m\u001b[0m\n\u001b[1;32m     39\u001b[0m     \u001b[0mamp_range\u001b[0m \u001b[0;34m=\u001b[0m \u001b[0mloadtxt\u001b[0m\u001b[0;34m(\u001b[0m\u001b[0mdatadir\u001b[0m\u001b[0;34m+\u001b[0m\u001b[0;34m'fit_opt_amplitude_parameters.txt'\u001b[0m\u001b[0;34m)\u001b[0m\u001b[0;34m\u001b[0m\u001b[0m\n",
      "\u001b[0;31mValueError\u001b[0m: too many values to unpack"
     ]
    }
   ],
   "source": [
    "\n",
    "# Preliminaries \n",
    "# ---\n",
    "\n",
    "# Define data location\n",
    "datadir = '/Users/book/KOALA/puck/ll/data/version2/'\n",
    "\n",
    "# Load select waveforms\n",
    "files = glob( datadir+'q*.txt' )\n",
    "simnames = [ f_.split('/')[-1].split('.t')[0] for f_ in files ]\n",
    "\n",
    "# Setup plot\n",
    "# ---\n",
    "nrow = len(pwca_catalog)\n",
    "ncol = 2\n",
    "# fig,ax = subplots( nrow, ncol, figsize=3*figaspect(nrow*0.618/8) )\n",
    "# ax = ax.flatten()\n",
    "\n",
    "#\n",
    "# tight_layout(1,2,10)\n",
    "lw = 2\n",
    "\n",
    "# Plot diagnostics for all calibration cases\n",
    "ax_id = 0\n",
    "for a in pwca_catalog:\n",
    "\n",
    "\n",
    "    # Find index corresponding to chosen case\n",
    "    k = simnames.index( a.simname )\n",
    "    # Load data for this case\n",
    "    raw_data = loadtxt(files[k]).T\n",
    "    data,_,fmin,fmax,fknot = determine_data_fitting_region(raw_data)\n",
    "\n",
    "\n",
    "    # Load and unpuack OPTIMAL physical parameter space -- dphi\n",
    "    dphi_range = loadtxt(datadir+'fit_opt_dphase_parameters.txt')\n",
    "    opt_nu4,opt_nu5,opt_nu6 = dphi_range[k,:]\n",
    "    # Load and unpuack OPTIMAL physical parameter space -- amp\n",
    "    amp_range = loadtxt(datadir+'fit_opt_amplitude_parameters.txt')\n",
    "    opt_mu1, opt_mu2, opt_mu3, opt_mu4 = amp_range[k,:]\n",
    "\n",
    "    # extract useful params from scentry object\n",
    "    theta,m1,m2,eta,delta,chi_eff,chi_p,chi1,chi2,a1,a2 = select_scenty_metadata(a)\n",
    "    # generate model parameters \n",
    "    mu1,mu2,mu3,mu4,nu4,nu5,nu6,zeta2 = generate_model_params(theta,eta,a1)\n",
    "\n",
    "    # generate template functions\n",
    "    template_dphi = template_dphi_mrd( m1, m2, chi1, chi2, chi_p )\n",
    "    \n",
    "    # Load and unpuack physical parameter space\n",
    "    raw_domain = loadtxt(datadir+'fit_intial_binary_parameters.txt')\n",
    "    param_test_quantity = sum(raw_domain[k,:]-array([theta,m1,m2,eta,delta,chi_eff,chi_p,chi1,chi2,a1,a2]))==0\n",
    "    if param_test_quantity:\n",
    "        alert(bold(green('CHECK PASSED: '))+'Generated physical parameters are identical to calibration ones.')\n",
    "    else:\n",
    "        error(bold(red('CHECK PASSED: '))+'Generated physical parameters are not identical to calibration ones.')\n",
    "\n",
    "    #\n",
    "    raw_f,raw_amp_td,raw_amp_fd,raw_dphi_td,raw_dphi_fd = raw_data\n",
    "    adjusted_raw_dphi_td = raw_dphi_td-min( raw_dphi_td[ (raw_f>=fmin) & (raw_f<=fmax)  ])\n",
    "    f,amp_td,amp_fd,dphi_td,dphi_fd = data.T\n",
    "    #\n",
    "    raw_positive_mask = raw_f>0\n",
    "    raw_fp = raw_f[raw_positive_mask]\n",
    "    \n",
    "    # -- \n",
    "    model_phi = pwca_phi_mrd( raw_fp, m1, m2, chi1, chi2, chi_p )\n",
    "    \n",
    "    # \n",
    "    d_model_phi = spline_diff( raw_fp, model_phi )\n",
    "    adjusted_d_model_phi = d_model_phi - min(d_model_phi[(raw_fp>=fmin) & (raw_fp<=fmax)])\n",
    "    \n",
    "    #\n",
    "    raw_f,raw_amp_td,raw_amp_fd,raw_dphi_td,raw_dphi_fd = raw_data\n",
    "    adjusted_raw_dphi_td = raw_dphi_td-min( raw_dphi_td[ (raw_f>=fmin) & (raw_f<=fmax)  ])\n",
    "    f,amp_td,amp_fd,dphi_td,dphi_fd = data.T\n",
    "\n",
    "    #\n",
    "    raw_positive_mask = raw_f>0\n",
    "    raw_fp = raw_f[raw_positive_mask]\n",
    "\n",
    "    #\n",
    "    phenomd_dphi   = template_dphi( raw_fp )\n",
    "    opt_model_dphi = template_dphi( raw_fp, opt_nu4, opt_nu5, opt_nu6 )\n",
    "    model_dphi     = template_dphi( raw_fp, nu4, nu5, nu6 )\n",
    "    \n",
    "    #\n",
    "    y = generate_pwca_waveform( raw_fp, a.m1, a.m2, a.X1, a.X2, a.L )\n",
    "    full_model_phi = unwrap( -angle(y) )\n",
    "    \n",
    "    # \n",
    "    d_full_model_phi = spline_diff( raw_fp, full_model_phi )\n",
    "    adjusted_d_full_model_phi = d_full_model_phi - min(d_full_model_phi[(raw_fp>=fmin) & (raw_fp<=fmax)])\n",
    "    \n",
    "    #\n",
    "    ff = linspace(min(raw_fp),max(raw_fp),10000)\n",
    "    y = generate_pwca_waveform( ff, a.m1, a.m2, a.X1, a.X2, a.L )\n",
    "    \n",
    "    #\n",
    "    fstart = 0.03\n",
    "    N = 4000\n",
    "    model_data = ( ff, abs(y), unwrap(angle(y)) )\n",
    "    dt = 0.5\n",
    "    y_td,t,t_shift = phenom2td( fstart, N, dt, model_data, plot=True, verbose=True, fmax=0.3, ringdown_pad=300 )\n",
    "    \n",
    "    #\n",
    "    break\n",
    "\n",
    "\n",
    "\n"
   ]
  },
  {
   "cell_type": "code",
   "execution_count": null,
   "metadata": {},
   "outputs": [],
   "source": []
  }
 ],
 "metadata": {
  "kernelspec": {
   "display_name": "LIGO+Python2.7",
   "language": "python",
   "name": "ligo-py2"
  },
  "language_info": {
   "codemirror_mode": {
    "name": "ipython",
    "version": 2
   },
   "file_extension": ".py",
   "mimetype": "text/x-python",
   "name": "python",
   "nbconvert_exporter": "python",
   "pygments_lexer": "ipython2",
   "version": "2.7.17"
  }
 },
 "nbformat": 4,
 "nbformat_minor": 4
}
