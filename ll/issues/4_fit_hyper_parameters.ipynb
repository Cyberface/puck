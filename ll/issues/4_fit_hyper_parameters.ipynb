{
 "cells": [
  {
   "cell_type": "markdown",
   "metadata": {},
   "source": [
    "# Fit hyper-parameters"
   ]
  },
  {
   "cell_type": "code",
   "execution_count": 1,
   "metadata": {},
   "outputs": [
    {
     "name": "stdout",
     "output_type": "stream",
     "text": [
      "(\u001b[0;36mpositive\u001b[0m)>> Applying custom matplotlib settings.\n",
      "(\u001b[0;36minit\u001b[0m)>> \u001b[0;33mWarm greetings from Welsh Puck (aka pwca)\u001b[0m.\n",
      "(\u001b[0;36mpwca.core\u001b[0m)>> Catalog of calibration runs stored to \u001b[0;35m\"pwca.pwca_catalog\"\u001b[0m\n",
      "(\u001b[0;36mpwca.core\u001b[0m)>> Metadata dictionary for calibration runs stored to \u001b[0;35m\"pwca.metadata_dict\"\u001b[0m\n"
     ]
    }
   ],
   "source": [
    "# Setup ipython environment\n",
    "%load_ext autoreload\n",
    "%autoreload 2\n",
    "%matplotlib inline\n",
    "from matplotlib.pyplot import *\n",
    "from numpy import *\n",
    "from positive import *\n",
    "from nrutils import scsearch, gwylm\n",
    "from glob import glob\n",
    "import pwca\n",
    "from pwca import determine_data_fitting_region,pwca_catalog,metadata_dict"
   ]
  },
  {
   "cell_type": "markdown",
   "metadata": {},
   "source": [
    "## This is notebook is only for scratch code and prototyping"
   ]
  },
  {
   "cell_type": "code",
   "execution_count": 135,
   "metadata": {},
   "outputs": [],
   "source": [
    "# Load and unpuack physical parameter space\n",
    "raw_domain = loadtxt('/Users/book/KOALA/puck/ll/data/version2/fit_intial_binary_parameters.txt')\n",
    "theta,m1,m2,eta,delta,chi_eff,chi_p,chi1,chi2 = raw_domain.T\n",
    "\n",
    "\n",
    "# Define desired model domain variables and array \n",
    "u = cos(theta)\n",
    "model_domain = array( [ u, eta, chi_eff, chi_p ] ).T\n",
    "\n",
    "# Load and unpuack physical parameter space -- dphi\n",
    "dphi_range = loadtxt('/Users/book/KOALA/puck/ll/data/version2/fit_opt_dphase_parameters.txt')\n",
    "nu4,nu5,nu6 = dphi_range.T\n",
    "\n",
    "# Load and unpuack physical parameter space -- amp\n",
    "amp_range = loadtxt('/Users/book/KOALA/puck/ll/data/version2/fit_opt_amplitude_parameters.txt')\n",
    "mu1, mu2, mu3, mu4 = amp_range.T\n",
    "\n",
    "# labels={'python':['nu4',('u', 'eta', 'chi_eff', 'chi_p'),''],'latex':['nu4',(r'u', r'\\eta', r'\\chi_s', r'\\chi_p'),'']}"
   ]
  },
  {
   "cell_type": "code",
   "execution_count": 79,
   "metadata": {},
   "outputs": [],
   "source": [
    "# nu4\n",
    "foo = gmvpfit( model_domain, nu4,fitatol=0.002,verbose=True,maxdeg_list=[3,2,1,1],center=True)\n",
    "foo.plot();\n",
    "# nu5\n",
    "foo = gmvpfit( model_domain, nu5,fitatol=0.002,verbose=True,maxdeg_list=[3,3,1,1],center=True)\n",
    "foo.plot();\n",
    "# nu6\n",
    "foo = gmvpfit( model_domain, nu6,fitatol=0.002,verbose=True,maxdeg_list=[3,3,1,1],center=False)\n",
    "foo.plot();"
   ]
  },
  {
   "cell_type": "code",
   "execution_count": null,
   "metadata": {},
   "outputs": [],
   "source": [
    "# mu1 \n",
    "# ---\n",
    "\n",
    "# possibly overfit\n",
    "foo = gmvpfit( model_domain, mu1,fitatol=0.004,verbose=True,maxdeg_list=[2,3,1,2],center=False,temper=False)\n",
    "foo.plot();\n",
    "\n",
    "# mu2\n",
    "# ---\n",
    "\n",
    "# not overfit\n",
    "foo = gmvpfit( model_domain, mu2,fitatol=0.004,verbose=True,maxdeg_list=[2,2,2,2],center=True)\n",
    "foo.plot();\n",
    "\n",
    "# mu3\n",
    "# ---\n",
    "\n",
    "# not overfit\n",
    "foo = gmvpfit( model_domain, mu3,fitatol=0.004,verbose=True,maxdeg_list=[2,2,2,2],center=True)\n",
    "foo.plot();\n",
    "\n",
    "# mu4\n",
    "# ---\n",
    "\n",
    "# not overfit\n",
    "foo = gmvpfit( model_domain, mu4,fitatol=0.004,verbose=True,maxdeg_list=[2,2,2,2],center=False)\n",
    "foo.plot();\n",
    "\n"
   ]
  }
 ],
 "metadata": {
  "kernelspec": {
   "display_name": "LIGO+Python2.7",
   "language": "python",
   "name": "ligo-py2"
  },
  "language_info": {
   "codemirror_mode": {
    "name": "ipython",
    "version": 2
   },
   "file_extension": ".py",
   "mimetype": "text/x-python",
   "name": "python",
   "nbconvert_exporter": "python",
   "pygments_lexer": "ipython2",
   "version": "2.7.17"
  }
 },
 "nbformat": 4,
 "nbformat_minor": 4
}
