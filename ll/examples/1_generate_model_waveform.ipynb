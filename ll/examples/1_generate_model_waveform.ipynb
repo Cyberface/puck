{
 "cells": [
  {
   "cell_type": "markdown",
   "metadata": {},
   "source": [
    "# Example code for evaluating the coprecessing waveform model \n",
    "londonl@mit.edu / pilondon2@gmail.com 2020"
   ]
  },
  {
   "cell_type": "code",
   "execution_count": 1,
   "metadata": {},
   "outputs": [
    {
     "name": "stdout",
     "output_type": "stream",
     "text": [
      "(\u001b[0;36mpositive\u001b[0m)>> Applying custom matplotlib settings.\n",
      "(\u001b[0;36minit\u001b[0m)>> \u001b[0;33mWarm greetings from Welsh Puck (aka pwca)\u001b[0m.\n",
      "(\u001b[0;36mpwca.core\u001b[0m)>> Catalog of calibration runs stored to \u001b[0;35m\"pwca.pwca_catalog\"\u001b[0m\n",
      "(\u001b[0;36mpwca.core\u001b[0m)>> Metadata dictionary for calibration runs stored to \u001b[0;35m\"pwca.metadata_dict\"\u001b[0m\n"
     ]
    }
   ],
   "source": [
    "# Setup ipython environment\n",
    "%load_ext autoreload\n",
    "%autoreload 2\n",
    "%matplotlib inline\n",
    "from matplotlib.pyplot import *\n",
    "from numpy import *\n",
    "from positive import *\n",
    "from nrutils import scsearch, gwylm\n",
    "from pwca import *\n",
    "from glob import glob"
   ]
  },
  {
   "cell_type": "code",
   "execution_count": 2,
   "metadata": {},
   "outputs": [
    {
     "name": "stdout",
     "output_type": "stream",
     "text": [
      "(\u001b[0;36mscsearch\u001b[0m)>> Found \u001b[4mcatalog\u001b[0m (=...) keyword.\n",
      "(\u001b[0;36mscsearch\u001b[0m)>> Found \u001b[4mkeyword\u001b[0m (=q4a04t60dPm1.5D_T_96_360) keyword.\n",
      "(\u001b[0;36mscsearch\u001b[0m)>> Found \u001b[4mverbose\u001b[0m (=True) keyword.\n",
      "(\u001b[0;36mscsearch\u001b[0m)>> List of keywords or string keyword found: \u001b[0;36mALL scentry objects matching will be passed.\u001b[0m To pass ANY entries matching the keywords, input the keywords using an iterable of not of type list.\n",
      "## Found \u001b[1m1\u001b[0m\u001b[0;35m possibly degenerate\u001b[0m simulations:\n",
      "[0001][\u001b[92mhogshead\u001b[0m] \u001b[0;36mq4\u001b[0m: 1chi0.40-p-q4.00\t(\u001b[0;36mq4a04t60dPm1.5D_T_96_360\u001b[0m)\n",
      "\n"
     ]
    }
   ],
   "source": [
    "# Display basic info about calibration runs\n",
    "scsearch( catalog=pwca_catalog, keyword='q4a04t60dPm1.5D_T_96_360', verbose=True );"
   ]
  },
  {
   "cell_type": "code",
   "execution_count": 3,
   "metadata": {},
   "outputs": [
    {
     "name": "stdout",
     "output_type": "stream",
     "text": [
      "/Users/book/KOALA/puck/ll/\n"
     ]
    }
   ],
   "source": [
    "print parent( pwca.__path__[0] )"
   ]
  },
  {
   "cell_type": "code",
   "execution_count": null,
   "metadata": {},
   "outputs": [],
   "source": []
  }
 ],
 "metadata": {
  "kernelspec": {
   "display_name": "LIGO+Python2.7",
   "language": "python",
   "name": "ligo-py2"
  },
  "language_info": {
   "codemirror_mode": {
    "name": "ipython",
    "version": 2
   },
   "file_extension": ".py",
   "mimetype": "text/x-python",
   "name": "python",
   "nbconvert_exporter": "python",
   "pygments_lexer": "ipython2",
   "version": "2.7.17"
  }
 },
 "nbformat": 4,
 "nbformat_minor": 4
}
